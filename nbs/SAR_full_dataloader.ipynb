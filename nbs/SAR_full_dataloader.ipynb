{
 "cells": [
  {
   "cell_type": "code",
   "execution_count": 1,
   "id": "4eb91af0-ba21-4e22-a616-33bd03f54e75",
   "metadata": {},
   "outputs": [],
   "source": [
    "%matplotlib inline\n",
    "%load_ext autoreload\n",
    "%autoreload 2"
   ]
  },
  {
   "cell_type": "code",
   "execution_count": 2,
   "id": "1f32a1fd-00eb-457e-a8c7-d268067ed779",
   "metadata": {},
   "outputs": [],
   "source": [
    "import geopandas as gpd\n",
    "import numpy as np\n",
    "import pandas as pd\n",
    "import hyp3_sdk as sdk\n",
    "import asf_search as asf\n",
    "import pyproj\n",
    "import json\n",
    "import rasterio as rio\n",
    "import matplotlib.pyplot as plt\n",
    "import seaborn as sns\n",
    "import sys\n",
    "\n",
    "from PIL import Image\n",
    "from shapely.geometry import Polygon\n",
    "from config import hyp3_username, hyp3_password\n",
    "from med_granules import med_granules"
   ]
  },
  {
   "cell_type": "code",
   "execution_count": 3,
   "id": "924846f9-1e81-4b85-b621-f00d2224b1df",
   "metadata": {},
   "outputs": [],
   "source": [
    "sys.path.append('../../SARSearch/src/')\n",
    "from sarutils import SARUtils"
   ]
  },
  {
   "cell_type": "code",
   "execution_count": null,
   "id": "ebb8fee6-28af-4720-9902-bfe67a432f98",
   "metadata": {},
   "outputs": [],
   "source": [
    "def merge_landmasks(mask_files, output_file):\n",
    "    # Open the mask files\n",
    "    src_files_to_mosaic = [rasterio.open(mask) for mask in mask_files]\n",
    "    \n",
    "    # Merge the masks\n",
    "    mosaic, out_trans = merge(src_files_to_mosaic)\n",
    "    \n",
    "    # Update the metadata\n",
    "    out_meta = src_files_to_mosaic[0].meta.copy()\n",
    "    out_meta.update({\n",
    "        \"driver\": \"GTiff\",\n",
    "        \"height\": mosaic.shape[1],\n",
    "        \"width\": mosaic.shape[2],\n",
    "        \"transform\": out_trans,\n",
    "        \"crs\": src_files_to_mosaic[0].crs,\n",
    "        \"dtype\": rasterio.uint8,\n",
    "        \"compress\": \"lzw\"  # Apply compression\n",
    "    })\n",
    "\n",
    "    # Write the merged mask to a new file\n",
    "    with rasterio.open(output_file, \"w\", **out_meta) as dest:\n",
    "        dest.write(mosaic)\n",
    "\n",
    "    # Close the opened files\n",
    "    for src in src_files_to_mosaic:\n",
    "        src.close()\n",
    "\n",
    "if __name__ == '__main__':\n",
    "    mask_files = [\n",
    "        '/home/kai/datasets/W140N60_PROBAV_LC100_global_v3.0.1_2019-nrt_Discrete-Classification-proba_EPSG-4326.tif',\n",
    "        '/home/kai/datasets/W120N40_PROBAV_LC100_global_v3.0.1_2019-nrt_Discrete-Classification-proba_EPSG-4326.tif',\n",
    "        '/home/kai/datasets/W140N40_PROBAV_LC100_global_v3.0.1_2019-nrt_Discrete-Classification-proba_EPSG-4326.tif'\n",
    "    ]\n",
    "    output_file = '/home/kai/datasets/us_westcoast_LC100_global_v3.0.1_2019-nrt_Discrete-Classification-proba_EPSG-4326.tif'\n",
    "    merge_landmasks(mask_files, output_file)\n"
   ]
  },
  {
   "cell_type": "code",
   "execution_count": null,
   "id": "f1cb5208-fc69-42f5-a05c-5287ccd14e56",
   "metadata": {},
   "outputs": [],
   "source": [
    "A733_VV = '/home/kai/datasets/jpl_slice/cali_sentinel1_frames_hyp3_processed/S1A_IW_20210204T140058_DVP_RTC20_G_gduned_A733/S1A_IW_20210204T140058_DVP_RTC20_G_gduned_A733_VV.tif'\n",
    "_4BEC_VV = '/home/kai/datasets/jpl_slice/ben_kai_test/vv/S1A_IW_GRDH_1SDV_20210925T140807_20210925T140832_039839_04B67B_AC65_VV.tif'\n",
    "with rio.open(_4BEC_VV) as scene:\n",
    "    image_data = scene.read(1)\n",
    "    no_data_value = scene.nodata\n",
    "    image_data = np.where(image_data == no_data_value, np.nan, image_data)"
   ]
  },
  {
   "cell_type": "code",
   "execution_count": null,
   "id": "807d83b3-3860-4900-8b62-818eb82a779a",
   "metadata": {},
   "outputs": [],
   "source": [
    "plt.figure(figsize=(50,50))\n",
    "plt.imshow(image_data, cmap='gray', vmin=np.nanmin(image_data), vmax=np.nanmax(image_data))\n",
    "plt.colorbar()\n",
    "plt.title('GeoTIFF Visualization')\n",
    "plt.show()"
   ]
  },
  {
   "cell_type": "code",
   "execution_count": null,
   "id": "113e7be2-687a-4511-8842-f04e9aa496bd",
   "metadata": {},
   "outputs": [],
   "source": [
    "no_data_value"
   ]
  },
  {
   "cell_type": "code",
   "execution_count": null,
   "id": "633da1a0-dfcd-48f4-97d4-acbf6a6091bc",
   "metadata": {},
   "outputs": [],
   "source": [
    "np.unique(image_data)"
   ]
  },
  {
   "cell_type": "code",
   "execution_count": null,
   "id": "90908d07-bd22-4aa7-86dc-a072bd4c1c85",
   "metadata": {},
   "outputs": [],
   "source": [
    "sar_image_path = _4BEC_VV\n",
    "landcover_tif_path = '/home/kai/datasets/us_westcoast_LC100_global_v3.0.1_2019-nrt_Discrete-Classification-proba_EPSG-4326.tif'  # Update with the correct path\n",
    "\n",
    "# Read the SAR image using rasterio\n",
    "with rasterio.open(sar_image_path) as src:\n",
    "    sar_image = src.read(1)  # Read the first band\n",
    "    no_data_value = src.nodata\n",
    "    sar_image = np.where(sar_image == no_data_value, np.nan, image_data)\n",
    "    sar_meta = src.meta\n",
    "    sar_crs = src.crs\n",
    "    sar_transform = src.transform\n",
    "    sar_bounds = src.bounds\n",
    "\n",
    "# Read the landcover GeoTIFF using rasterio\n",
    "with rasterio.open(landcover_tif_path) as land_src:\n",
    "    landcover_data = land_src.read(1)\n",
    "    land_transform = land_src.transform\n",
    "    land_bounds = land_src.bounds\n",
    "\n",
    "# Reproject landcover data if CRS does not match\n",
    "if sar_crs != land_src.crs:\n",
    "    from rasterio.warp import reproject, Resampling\n",
    "\n",
    "    reprojected_landcover_data = np.empty(shape=(sar_meta['height'], sar_meta['width']), dtype=landcover_data.dtype)\n",
    "    reproject(\n",
    "        source=landcover_data,\n",
    "        destination=reprojected_landcover_data,\n",
    "        src_transform=land_transform,\n",
    "        src_crs=land_src.crs,\n",
    "        dst_transform=sar_transform,\n",
    "        dst_crs=sar_crs,\n",
    "        resampling=Resampling.nearest\n",
    "    )\n",
    "    landcover_data = reprojected_landcover_data\n",
    "\n",
    "# Define land classes to mask (e.g., water bodies)\n",
    "# For example, assuming water bodies are represented by value 210 in the landcover data\n",
    "water_classes = [255]\n",
    "land_mask = np.isin(landcover_data, water_classes, invert=True)\n",
    "\n",
    "# Apply the land mask to the SAR image\n",
    "masked_sar_image = np.where(land_mask, np.nan, sar_image)\n",
    "\n",
    "# Save the masked SAR image back to a new file\n",
    "masked_sar_image_path = 'foo.tif'\n",
    "with rasterio.open(masked_sar_image_path, 'w', **sar_meta) as dst:\n",
    "    dst.write(masked_sar_image, 1)\n",
    "\n",
    "# Optional: Plot the original and masked images to verify\n",
    "plt.figure(figsize=(12, 6))\n",
    "\n",
    "plt.subplot(1, 2, 1)\n",
    "plt.title('Original SAR Image')\n",
    "plt.imshow(sar_image, cmap='gray', vmin=np.nanmin(sar_image), vmax=np.nanmax(sar_image))\n",
    "plt.axis('off')\n",
    "\n",
    "plt.subplot(1, 2, 2)\n",
    "plt.title('Masked SAR Image')\n",
    "plt.imshow(masked_sar_image, cmap='gray', vmin=np.nanmin(masked_sar_image), vmax=np.nanmax(masked_sar_image))\n",
    "plt.axis('off')\n",
    "\n",
    "plt.show()\n"
   ]
  },
  {
   "cell_type": "code",
   "execution_count": null,
   "id": "c2890282-abcc-4c21-ae7f-c1baff9a244b",
   "metadata": {},
   "outputs": [],
   "source": [
    "np.unique(masked_sar_image)"
   ]
  },
  {
   "cell_type": "code",
   "execution_count": null,
   "id": "481575ad-0b69-4922-9a96-87819fcea26b",
   "metadata": {},
   "outputs": [],
   "source": [
    "sns.histplot(vv_data[vv_data > -3 ])"
   ]
  },
  {
   "cell_type": "code",
   "execution_count": null,
   "id": "10327e9d-16eb-4769-b35d-f5af00cef9e4",
   "metadata": {},
   "outputs": [],
   "source": [
    "sns.histplot(vv_data[vv_data < 0][vv_data > -1])\n"
   ]
  },
  {
   "cell_type": "code",
   "execution_count": null,
   "id": "6e785562-2f72-4daa-9a9f-0b5dedb09fef",
   "metadata": {},
   "outputs": [],
   "source": [
    "foo = vv_data[vv_data < 0]"
   ]
  },
  {
   "cell_type": "code",
   "execution_count": null,
   "id": "62690c85-2f41-4bcf-9a6c-ef4f601b3e7c",
   "metadata": {},
   "outputs": [],
   "source": [
    "sns.histplot(foo[foo > -1])"
   ]
  },
  {
   "cell_type": "code",
   "execution_count": 6,
   "id": "1e15f94b-4ee3-4a3b-9acd-fbad9578d285",
   "metadata": {},
   "outputs": [],
   "source": [
    "sarutils = SARUtils('/home/kai/datasets/us_westcoast_LC100_global_v3.0.1_2019-nrt_Discrete-Classification-proba_EPSG-4326.tif')"
   ]
  },
  {
   "cell_type": "code",
   "execution_count": null,
   "id": "47eb2d8c-2373-4e28-a4f0-04c62e2d2fea",
   "metadata": {},
   "outputs": [],
   "source": [
    "sarutils.multiprocess_apply_landmask(input_dir='/home/kai/datasets/jpl_slice/ben_kai_test/vv/', \n",
    "                                     output_dir='/home/kai/datasets/jpl_slice/ben_kai_test/vv_landmask/')"
   ]
  },
  {
   "cell_type": "code",
   "execution_count": 8,
   "id": "aa964d3a-2e73-4c33-abd2-275cff7fad24",
   "metadata": {},
   "outputs": [],
   "source": [
    "sarutils.index_tiles(tiff_dir='/home/kai/datasets/jpl_slice/ben_kai_test/vv_landmask/',\n",
    "                     output_file='/home/kai/datasets/jpl_slice/ben_kai_test/vv_landmask_tile_map')"
   ]
  },
  {
   "cell_type": "code",
   "execution_count": null,
   "id": "a9c4e6f9-d3f2-4dfa-902c-14ef405169b0",
   "metadata": {},
   "outputs": [],
   "source": []
  }
 ],
 "metadata": {
  "kernelspec": {
   "display_name": "hyp3",
   "language": "python",
   "name": "hyp3"
  },
  "language_info": {
   "codemirror_mode": {
    "name": "ipython",
    "version": 3
   },
   "file_extension": ".py",
   "mimetype": "text/x-python",
   "name": "python",
   "nbconvert_exporter": "python",
   "pygments_lexer": "ipython3",
   "version": "3.12.3"
  }
 },
 "nbformat": 4,
 "nbformat_minor": 5
}
