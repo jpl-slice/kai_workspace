{
 "cells": [
  {
   "cell_type": "markdown",
   "metadata": {
    "collapsed": false,
    "jupyter": {
     "outputs_hidden": false
    },
    "pycharm": {
     "name": "#%%\n"
    }
   },
   "source": [
    "# Ten Geophysical Phenomena\n",
    "\n",
    "Finetune SimCLRv2 model pre-trained on 100k Med/Cali images that \n",
    "produced best test F1 macro scores.\n",
    "\n",
    "* **TACC**: `/home1/08452/kaipak/clover_shared/corral/datasets/ten_geophysical_phenomena`\n",
    "* **WandB**: https://wandb.ai/jpl_clover/SAR_SimCLR_ten_gpp\n",
    "\n",
    "\n",
    "**Pure ocean waves**$~$||$~~$**Wind Streaks**$~~$||$~~~~~~~$**MCC**$~~~~~~~~$||$~~~~~$**Rain Cells**$~~~~~~$||$~~~$**Biological Slicks**\n",
    "![image 10gpp_image](./images/10gpp_illustration.gif)\n",
    "$~~~~~$**Sea Ice**$~~~~~~~~~~~$||$~~~~$**Iceberg**$~~~~~~~$||$~~~~$**Low Wind Area**$~~~~~$||$~~~$**Atmos Front**$~~~$||$~~~$**Oceanic Front**\n",
    "\n",
    "Ignore the letters above! They are NOT the labels used.\n",
    "\n",
    "In order (left-to-right, first row, second row)\n",
    "* F - Pure Ocean Waves\n",
    "* G - Wind Streaks\n",
    "* H - Micro Convective Cells\n",
    "* I - Rain Cells\n",
    "* J - Biological Slicks\n",
    "* K - Sea Ice\n",
    "* L - Iceberg\n",
    "* M - Low Wind Area\n",
    "* N - Atmospheric Front\n",
    "* O - Oceanic Front"
   ]
  },
  {
   "cell_type": "code",
   "execution_count": 2,
   "metadata": {
    "pycharm": {
     "is_executing": true,
     "name": "#%%\n"
    }
   },
   "outputs": [],
   "source": [
    "%matplotlib inline"
   ]
  },
  {
   "cell_type": "code",
   "execution_count": 1,
   "metadata": {
    "pycharm": {
     "is_executing": true,
     "name": "#%%\n"
    }
   },
   "outputs": [],
   "source": [
    "import numpy as np\n",
    "import pandas as pd\n",
    "import matplotlib.pyplot as plt\n",
    "import seaborn as sns\n",
    "\n",
    "import os, sys\n",
    "from pathlib import Path"
   ]
  },
  {
   "cell_type": "code",
   "execution_count": null,
   "metadata": {
    "collapsed": false,
    "jupyter": {
     "outputs_hidden": false
    },
    "pycharm": {
     "name": "#%%\n"
    }
   },
   "outputs": [],
   "source": [
    "sns.set_theme(style=\"whitegrid\")"
   ]
  },
  {
   "cell_type": "code",
   "execution_count": null,
   "metadata": {
    "collapsed": false,
    "jupyter": {
     "outputs_hidden": false
    },
    "pycharm": {
     "name": "#%%\n"
    }
   },
   "outputs": [],
   "source": [
    "label_map = {\n",
    "    \"F\": \"Pure Ocean Waves\",\n",
    "    \"G\": \"Wind Streaks\",\n",
    "    \"H\": \"Microconvective Cells\",\n",
    "    \"I\": \"Rain Cells\",\n",
    "    \"J\": \"Biological Slicks\",\n",
    "    \"K\": \"Sea Ice\",\n",
    "    \"L\": \"Iceberg\",\n",
    "    \"M\": \"Low Wind Area\",\n",
    "    \"N\": \"Atmospheric Front\",\n",
    "    \"O\": \"Oceanic Front\"\n",
    "}\n",
    "\n",
    "train_file = Path('/home1/08452/kaipak/clover_shared/corral/datasets/ten_geophysical_phenomena/train.csv')\n",
    "test_file = Path('/home1/08452/kaipak/clover_shared/corral/datasets/ten_geophysical_phenomena/test.csv')\n",
    "\n",
    "df_train = pd.read_csv(train_file)\n",
    "df_train['class'] = df_train['label'].map(label_map)\n",
    "df_test = pd.read_csv(test_file)\n",
    "df_test['class'] = df_test['label'].map(label_map)\n"
   ]
  },
  {
   "cell_type": "code",
   "execution_count": null,
   "metadata": {
    "collapsed": false,
    "jupyter": {
     "outputs_hidden": false
    },
    "pycharm": {
     "name": "#%%\n"
    }
   },
   "outputs": [],
   "source": [
    "plt_ds_train = sns.countplot(data=df_train, y='class', \n",
    "                             orient='h', palette='Greens',\n",
    "                             order=df_train['class'].value_counts().index)\n",
    "plt_ds_train.set_title(\"Train Data Class Distribution\")\n",
    "plt.show()"
   ]
  },
  {
   "cell_type": "code",
   "execution_count": null,
   "metadata": {
    "collapsed": false,
    "jupyter": {
     "outputs_hidden": false
    },
    "pycharm": {
     "name": "#%%\n"
    }
   },
   "outputs": [],
   "source": [
    "plt_ds_test = sns.countplot(data=df_test, y='class', \n",
    "                            orient='h', palette='Blues',\n",
    "                            order=df_test['class'].value_counts().index)\n",
    "plt_ds_test.set_title(\"Test Data Class Distribution\")\n",
    "plt.show()"
   ]
  }
 ],
 "metadata": {
  "kernelspec": {
   "display_name": "ssl",
   "language": "python",
   "name": "ssl"
  },
  "language_info": {
   "codemirror_mode": {
    "name": "ipython",
    "version": 3
   },
   "file_extension": ".py",
   "mimetype": "text/x-python",
   "name": "python",
   "nbconvert_exporter": "python",
   "pygments_lexer": "ipython3",
   "version": "3.8.15"
  }
 },
 "nbformat": 4,
 "nbformat_minor": 4
}
