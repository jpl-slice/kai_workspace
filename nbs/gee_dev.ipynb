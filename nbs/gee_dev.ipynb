{
 "cells": [
  {
   "cell_type": "code",
   "execution_count": 7,
   "id": "0dde0659-17f3-4143-a4fe-91bf0fae4655",
   "metadata": {},
   "outputs": [],
   "source": [
    "import ee\n"
   ]
  },
  {
   "cell_type": "code",
   "execution_count": 10,
   "id": "1ebf7a85-5949-4f10-ae8d-8c70ab7ea404",
   "metadata": {},
   "outputs": [],
   "source": [
    "# ee.Authenticate()"
   ]
  },
  {
   "cell_type": "code",
   "execution_count": 9,
   "id": "724f0756-3ba1-4840-88d0-902dc389b73f",
   "metadata": {},
   "outputs": [],
   "source": [
    "ee.Initialize(project='slice-174b')"
   ]
  },
  {
   "cell_type": "code",
   "execution_count": null,
   "id": "6b0909a6-3566-41ab-8852-80df67b9163b",
   "metadata": {},
   "outputs": [],
   "source": []
  }
 ],
 "metadata": {
  "kernelspec": {
   "display_name": "gee",
   "language": "python",
   "name": "gee"
  },
  "language_info": {
   "codemirror_mode": {
    "name": "ipython",
    "version": 3
   },
   "file_extension": ".py",
   "mimetype": "text/x-python",
   "name": "python",
   "nbconvert_exporter": "python",
   "pygments_lexer": "ipython3",
   "version": "3.11.5"
  }
 },
 "nbformat": 4,
 "nbformat_minor": 5
}
