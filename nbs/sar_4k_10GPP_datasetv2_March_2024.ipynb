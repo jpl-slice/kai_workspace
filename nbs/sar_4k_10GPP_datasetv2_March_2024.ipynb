{
 "cells": [
  {
   "cell_type": "markdown",
   "id": "3cb497db-f5d6-4409-851d-377bef4e377c",
   "metadata": {},
   "source": [
    "# Inference Runs on SAR Image Datasets - Februrary 2024\n",
    "* UPDATED runs after new finetuning runs with updated dataset (Trained on Med v3).\n",
    "  * https://wandb.ai/jpl_clover/SAR_SimCLR_finetune_datasetV2\n",
    "* Initially have 4k images from 10 Geophysical Phenomenon dataset paper that were classified as slick.\n",
    "* Manually classified into E/NE classes.\n",
    "* Run inference using fine-tuned weights we created from our own eddy datasets comprising around 30k images from Med and Cali. Fine-tuning done on pre-trained weights from SimCLR and MoCo trained on approx 100k random SAR eddy tiles. "
   ]
  },
  {
   "cell_type": "code",
   "execution_count": 1,
   "id": "5abdf7b4-0c91-4137-9259-b167c0d6e4bf",
   "metadata": {
    "is_executing": true
   },
   "outputs": [],
   "source": [
    "import os\n",
    "import sys\n",
    "\n",
    "from pathlib import Path\n",
    "import datetime\n",
    "import pprint\n",
    "\n",
    "import numpy as np\n",
    "import pandas as pd\n",
    "import matplotlib.pyplot as plt\n",
    "import seaborn as sns\n",
    "from sklearn.metrics import confusion_matrix, accuracy_score, precision_score, recall_score"
   ]
  },
  {
   "cell_type": "code",
   "execution_count": 2,
   "id": "4fc0e96b-c6e0-481d-bf03-da029a4119a3",
   "metadata": {
    "ExecuteTime": {
     "end_time": "2024-01-05T19:32:50.805444495Z",
     "start_time": "2024-01-05T19:32:50.777182520Z"
    }
   },
   "outputs": [],
   "source": [
    "%matplotlib inline"
   ]
  },
  {
   "cell_type": "code",
   "execution_count": 7,
   "id": "cf122f40-cbd2-47fc-a4aa-ec1cb8cbcb8f",
   "metadata": {
    "ExecuteTime": {
     "end_time": "2024-01-05T20:06:11.052672608Z",
     "start_time": "2024-01-05T20:06:11.042340009Z"
    }
   },
   "outputs": [],
   "source": [
    "# Functions and Lambdas\n",
    "create_series = lambda fp : pd.read_csv(Path(fp), names=['res']).squeeze(\"columns\")\n",
    "\n",
    "def generate_binary_cls_report(y_true, y_pred, cls_label=1):\n",
    "    \"\"\"Generate report overviewing performance of binary classification task\n",
    "    \n",
    "    \"\"\"\n",
    "\n",
    "    cf = confusion_matrix(y_true, y_pred) \n",
    "    accuracy = accuracy_score(y_true, y_pred)\n",
    "    precision = precision_score(y_true, y_pred)\n",
    "    recall_0 = recall_score(y_true, y_pred, pos_label=0)\n",
    "    recall_1 = recall_score(y_true, y_pred, pos_label=1)\n",
    "\n",
    "    pprint.pprint(f\"Accuracy: {accuracy: .2%}\")\n",
    "    pprint.pprint(f\"Precision: {precision: .2%}\")\n",
    "    pprint.pprint(f\"Class 0 recall: {recall_0: .2%}\")\n",
    "    pprint.pprint(f\"Class 1 recall: {recall_1: .2%}\")\n",
    "\n",
    "    # Plot Confusion Matrix\n",
    "    plt.figure(figsize=(4, 3), dpi=100)\n",
    "    ax = sns.heatmap(cf, annot=True, fmt='d', cmap=\"Blues\")\n",
    "    ax.set_xlabel(\"Predicted\", fontsize=10, labelpad=10)\n",
    "    ax.set_ylabel(\"Actual\", fontsize=10, labelpad=10)\n",
    "    plt.show()\n",
    "\n",
    "    plt.figure(figsize=(4, 3), dpi=100)\n",
    "    ax_prop = sns.heatmap(cf / cf.sum(axis=1)[:, np.newaxis], annot=True, fmt='.2%', cmap=\"Blues\")\n",
    "    ax_prop.set_xlabel(\"Predicted\", fontsize=10, labelpad=10)\n",
    "    ax_prop.set_ylabel(\"Actual\", fontsize=10, labelpad=10)\n",
    "    plt.show()\n",
    "    "
   ]
  },
  {
   "cell_type": "code",
   "execution_count": 11,
   "id": "597c2905-cd20-4e08-995d-b4f42a359c92",
   "metadata": {
    "ExecuteTime": {
     "end_time": "2024-01-05T19:57:27.527365470Z",
     "start_time": "2024-01-05T19:57:25.171134613Z"
    }
   },
   "outputs": [
    {
     "data": {
      "text/html": [
       "<div>\n",
       "<style scoped>\n",
       "    .dataframe tbody tr th:only-of-type {\n",
       "        vertical-align: middle;\n",
       "    }\n",
       "\n",
       "    .dataframe tbody tr th {\n",
       "        vertical-align: top;\n",
       "    }\n",
       "\n",
       "    .dataframe thead th {\n",
       "        text-align: right;\n",
       "    }\n",
       "</style>\n",
       "<table border=\"1\" class=\"dataframe\">\n",
       "  <thead>\n",
       "    <tr style=\"text-align: right;\">\n",
       "      <th></th>\n",
       "      <th>image</th>\n",
       "      <th>label</th>\n",
       "    </tr>\n",
       "  </thead>\n",
       "  <tbody>\n",
       "    <tr>\n",
       "      <th>0</th>\n",
       "      <td>tiles/S1A_IW_GRDH_1SDV_20141222T172032_2014122...</td>\n",
       "      <td>0</td>\n",
       "    </tr>\n",
       "    <tr>\n",
       "      <th>1</th>\n",
       "      <td>tiles/S1A_IW_GRDH_1SDV_20160309T053556_2016030...</td>\n",
       "      <td>0</td>\n",
       "    </tr>\n",
       "    <tr>\n",
       "      <th>2</th>\n",
       "      <td>tiles/S1A_IW_GRDH_1SDV_20160201T173732_2016020...</td>\n",
       "      <td>0</td>\n",
       "    </tr>\n",
       "    <tr>\n",
       "      <th>3</th>\n",
       "      <td>tiles/S1A_IW_GRDH_1SDV_20151109T173740_2015110...</td>\n",
       "      <td>0</td>\n",
       "    </tr>\n",
       "    <tr>\n",
       "      <th>4</th>\n",
       "      <td>tiles/S1A_IW_GRDH_1SDV_20170316T053637_2017031...</td>\n",
       "      <td>1</td>\n",
       "    </tr>\n",
       "  </tbody>\n",
       "</table>\n",
       "</div>"
      ],
      "text/plain": [
       "                                               image  label\n",
       "0  tiles/S1A_IW_GRDH_1SDV_20141222T172032_2014122...      0\n",
       "1  tiles/S1A_IW_GRDH_1SDV_20160309T053556_2016030...      0\n",
       "2  tiles/S1A_IW_GRDH_1SDV_20160201T173732_2016020...      0\n",
       "3  tiles/S1A_IW_GRDH_1SDV_20151109T173740_2015110...      0\n",
       "4  tiles/S1A_IW_GRDH_1SDV_20170316T053637_2017031...      1"
      ]
     },
     "execution_count": 11,
     "metadata": {},
     "output_type": "execute_result"
    }
   ],
   "source": [
    "# Results\n",
    "res_simclr_val_med = create_series('../../linear_evaluation/preds.out')\n",
    "\n",
    "# Labels, 10% from v3 Med dataset\n",
    "df_slicks = pd.read_csv('/work/08452/kaipak/ls6/datasets/gee_sar_labeled_med_eddies_v2024.02.09/test.csv')\n",
    "\n",
    "df_slicks.head()"
   ]
  },
  {
   "cell_type": "code",
   "execution_count": 12,
   "id": "9d2bac69-2849-407d-859c-0fa31528c3b4",
   "metadata": {
    "ExecuteTime": {
     "end_time": "2024-01-05T19:57:27.529967756Z",
     "start_time": "2024-01-05T19:57:27.528081762Z"
    }
   },
   "outputs": [],
   "source": [
    "cf_simclr_val_med = confusion_matrix(df_slicks.label, res_simclr_val_med)"
   ]
  },
  {
   "cell_type": "markdown",
   "id": "35d02575-29d8-4625-9abc-97cd8cc52a3e",
   "metadata": {},
   "source": [
    "## SimCLR Pretained 100k, FT ~30k Med Labeled\n",
    "* Better recall, but poor precision"
   ]
  },
  {
   "cell_type": "markdown",
   "id": "1753eb72-8418-47d8-a02a-b74b267b1758",
   "metadata": {},
   "source": [
    "### Med Validation"
   ]
  },
  {
   "cell_type": "code",
   "execution_count": 13,
   "id": "c0717023-e57b-4858-a3c8-8148906053d6",
   "metadata": {
    "ExecuteTime": {
     "end_time": "2024-01-05T19:57:57.347099595Z",
     "start_time": "2024-01-05T19:57:57.300067643Z"
    }
   },
   "outputs": [
    {
     "name": "stdout",
     "output_type": "stream",
     "text": [
      "'Accuracy:  94.25%'\n",
      "'Precision:  82.98%'\n",
      "'Class 0 recall:  95.18%'\n",
      "'Class 1 recall:  90.70%'\n"
     ]
    },
    {
     "data": {
      "image/png": "[encoded data removed]",
      "text/plain": [
       "<Figure size 400x300 with 2 Axes>"
      ]
     },
     "metadata": {},
     "output_type": "display_data"
    },
    {
     "data": {
      "image/png": "[encoded data removed]",
      "text/plain": [
       "<Figure size 400x300 with 2 Axes>"
      ]
     },
     "metadata": {},
     "output_type": "display_data"
    }
   ],
   "source": [
    "## SimCLR w/ Med Validation\n",
    "generate_binary_cls_report(df_slicks.label, res_simclr_val_med)"
   ]
  },
  {
   "cell_type": "markdown",
   "id": "7d026f85-a070-47a3-8541-8f957df62d1f",
   "metadata": {},
   "source": [
    "### Cali Validation"
   ]
  },
  {
   "cell_type": "markdown",
   "id": "8ff57913-4dfb-47f3-863e-2d525feeda89",
   "metadata": {},
   "source": [
    "## MoCo Pretained 100k, FT ~30k Med Labeled\n",
    "* Improved Precision, not great recall"
   ]
  }
 ],
 "metadata": {
  "kernelspec": {
   "display_name": "hyp3",
   "language": "python",
   "name": "hyp3"
  },
  "language_info": {
   "codemirror_mode": {
    "name": "ipython",
    "version": 3
   },
   "file_extension": ".py",
   "mimetype": "text/x-python",
   "name": "python",
   "nbconvert_exporter": "python",
   "pygments_lexer": "ipython3",
   "version": "3.12.3"
  }
 },
 "nbformat": 4,
 "nbformat_minor": 5
}
