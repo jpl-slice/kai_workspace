{
 "cells": [
  {
   "cell_type": "markdown",
   "id": "3cb497db-f5d6-4409-851d-377bef4e377c",
   "metadata": {},
   "source": [
    "# Inference Runs on SAR Image Datasets\n",
    "* Initially have 4k images from 10 Geophysical Phenomenon dataset paper that were classified as slick.\n",
    "* Manually classified into E/NE classes.\n",
    "* Run inference using fine-tuned weights we created from our own eddy datasets comprising around 30k images from Med and Cali. Fine-tuning done on pre-trained weights from SimCLR and MoCo trained on approx 100k random SAR eddy tiles. "
   ]
  },
  {
   "cell_type": "code",
   "execution_count": 39,
   "id": "5abdf7b4-0c91-4137-9259-b167c0d6e4bf",
   "metadata": {},
   "outputs": [],
   "source": [
    "import os\n",
    "import sys\n",
    "from pathlib import Path\n",
    "import datetime\n",
    "\n",
    "import numpy as np\n",
    "import pandas as pd\n",
    "import matplotlib.pyplot as plt\n",
    "import seaborn as sns\n",
    "from sklearn.metrics import confusion_matrix, accuracy_score, precision_score, recall_score"
   ]
  },
  {
   "cell_type": "code",
   "execution_count": 64,
   "id": "cf122f40-cbd2-47fc-a4aa-ec1cb8cbcb8f",
   "metadata": {},
   "outputs": [],
   "source": [
    "create_series = lambda fp : pd.read_csv(Path(fp), names=['res']).squeeze(\"columns\")"
   ]
  },
  {
   "cell_type": "code",
   "execution_count": 65,
   "id": "597c2905-cd20-4e08-995d-b4f42a359c92",
   "metadata": {},
   "outputs": [
    {
     "data": {
      "text/html": [
       "<div>\n",
       "<style scoped>\n",
       "    .dataframe tbody tr th:only-of-type {\n",
       "        vertical-align: middle;\n",
       "    }\n",
       "\n",
       "    .dataframe tbody tr th {\n",
       "        vertical-align: top;\n",
       "    }\n",
       "\n",
       "    .dataframe thead th {\n",
       "        text-align: right;\n",
       "    }\n",
       "</style>\n",
       "<table border=\"1\" class=\"dataframe\">\n",
       "  <thead>\n",
       "    <tr style=\"text-align: right;\">\n",
       "      <th></th>\n",
       "      <th>img</th>\n",
       "      <th>label</th>\n",
       "    </tr>\n",
       "  </thead>\n",
       "  <tbody>\n",
       "    <tr>\n",
       "      <th>0</th>\n",
       "      <td>GeoTIFF/J/s1a-wv2-slc-vv-20160612t162736-20160...</td>\n",
       "      <td>0</td>\n",
       "    </tr>\n",
       "    <tr>\n",
       "      <th>1</th>\n",
       "      <td>GeoTIFF/J/s1a-wv2-slc-vv-20160612t181008-20160...</td>\n",
       "      <td>0</td>\n",
       "    </tr>\n",
       "    <tr>\n",
       "      <th>2</th>\n",
       "      <td>GeoTIFF/J/s1a-wv2-slc-vv-20160612t185823-20160...</td>\n",
       "      <td>0</td>\n",
       "    </tr>\n",
       "    <tr>\n",
       "      <th>3</th>\n",
       "      <td>GeoTIFF/J/s1a-wv2-slc-vv-20160612t205509-20160...</td>\n",
       "      <td>0</td>\n",
       "    </tr>\n",
       "    <tr>\n",
       "      <th>4</th>\n",
       "      <td>GeoTIFF/J/s1a-wv2-slc-vv-20160613t064234-20160...</td>\n",
       "      <td>0</td>\n",
       "    </tr>\n",
       "  </tbody>\n",
       "</table>\n",
       "</div>"
      ],
      "text/plain": [
       "                                                 img  label\n",
       "0  GeoTIFF/J/s1a-wv2-slc-vv-20160612t162736-20160...      0\n",
       "1  GeoTIFF/J/s1a-wv2-slc-vv-20160612t181008-20160...      0\n",
       "2  GeoTIFF/J/s1a-wv2-slc-vv-20160612t185823-20160...      0\n",
       "3  GeoTIFF/J/s1a-wv2-slc-vv-20160612t205509-20160...      0\n",
       "4  GeoTIFF/J/s1a-wv2-slc-vv-20160613t064234-20160...      0"
      ]
     },
     "execution_count": 65,
     "metadata": {},
     "output_type": "execute_result"
    }
   ],
   "source": [
    "# Results\n",
    "res_simclr_val_med = create_series('datasets/preds_4k_slicks_ft_simclr_med_test_med_072377_01-03-24.out')\n",
    "res_simclr_val_cal = create_series('datasets/preds_4k_slicks_ft_simrlr_med_test_cali_004244_01-03-24.out')\n",
    "res_moco_val_med = create_series('datasets/preds_4k_slicks_ft_moco_med_test_med_185136_01-03-24.out')\n",
    "res_moco_val_cal = create_series('datasets/preds_4k_slicks_ft_moco_med_test_cali_190008_01-03-24.out')\n",
    "\n",
    "# Labels, Ben labeled 4k E/NE from slick (J) dataset\n",
    "df_slicks = pd.read_csv('datasets/10gpp_slicks_labeled_ben.csv')\n",
    "\n",
    "df_slicks.head()"
   ]
  },
  {
   "cell_type": "code",
   "execution_count": 74,
   "id": "9d2bac69-2849-407d-859c-0fa31528c3b4",
   "metadata": {},
   "outputs": [],
   "source": [
    "cf_simclr_val_med = confusion_matrix(df_slicks.label, res_simclr_val_med)\n",
    "cf_simclr_val_cal = confusion_matrix(df_slicks.label, res_simclr_val_cal)\n",
    "cf_moco_val_med = confusion_matrix(df_slicks.label, res_moco_val_med)\n",
    "cf_moco_val_cal = confusion_matrix(df_slicks.label, res_moco_val_cal)"
   ]
  },
  {
   "cell_type": "code",
   "execution_count": 75,
   "id": "70a213db-f89f-4ea6-a8d0-72c4626c10a1",
   "metadata": {},
   "outputs": [
    {
     "data": {
      "text/plain": [
       "0       0\n",
       "1       0\n",
       "2       0\n",
       "3       0\n",
       "4       0\n",
       "       ..\n",
       "4701    0\n",
       "4702    0\n",
       "4703    1\n",
       "4704    1\n",
       "4705    1\n",
       "Name: res, Length: 4706, dtype: int64"
      ]
     },
     "execution_count": 75,
     "metadata": {},
     "output_type": "execute_result"
    }
   ],
   "source": [
    "res_simclr_val_med"
   ]
  },
  {
   "cell_type": "code",
   "execution_count": 76,
   "id": "70f329f0-b662-4b8c-8220-7545fbdd0552",
   "metadata": {},
   "outputs": [
    {
     "data": {
      "text/plain": [
       "array([[4012,  483],\n",
       "       [ 154,   57]])"
      ]
     },
     "execution_count": 76,
     "metadata": {},
     "output_type": "execute_result"
    }
   ],
   "source": [
    "cf_simclr_val_med"
   ]
  },
  {
   "cell_type": "code",
   "execution_count": 77,
   "id": "e8afe7f0-d806-4d85-b1dc-d9aab5b97a19",
   "metadata": {},
   "outputs": [
    {
     "data": {
      "text/plain": [
       "array([[4070,  425],\n",
       "       [ 169,   42]])"
      ]
     },
     "execution_count": 77,
     "metadata": {},
     "output_type": "execute_result"
    }
   ],
   "source": [
    "cf_simclr_val_cal"
   ]
  },
  {
   "cell_type": "code",
   "execution_count": 78,
   "id": "fc0712a8-0437-4586-813c-f96915c9c0b7",
   "metadata": {},
   "outputs": [
    {
     "data": {
      "text/plain": [
       "array([[4233,  262],\n",
       "       [ 188,   23]])"
      ]
     },
     "execution_count": 78,
     "metadata": {},
     "output_type": "execute_result"
    }
   ],
   "source": [
    "cf_moco_val_med"
   ]
  },
  {
   "cell_type": "code",
   "execution_count": 79,
   "id": "adf05984-d346-4688-bbde-67aa85464e75",
   "metadata": {},
   "outputs": [
    {
     "data": {
      "text/plain": [
       "array([[4357,  138],\n",
       "       [ 182,   29]])"
      ]
     },
     "execution_count": 79,
     "metadata": {},
     "output_type": "execute_result"
    }
   ],
   "source": [
    "cf_moco_val_cal"
   ]
  },
  {
   "cell_type": "code",
   "execution_count": null,
   "id": "e49af7f4-160b-4fa9-ba74-8719b701b883",
   "metadata": {},
   "outputs": [],
   "source": []
  }
 ],
 "metadata": {
  "kernelspec": {
   "display_name": "ssl",
   "language": "python",
   "name": "ssl"
  },
  "language_info": {
   "codemirror_mode": {
    "name": "ipython",
    "version": 3
   },
   "file_extension": ".py",
   "mimetype": "text/x-python",
   "name": "python",
   "nbconvert_exporter": "python",
   "pygments_lexer": "ipython3",
   "version": "3.8.15"
  }
 },
 "nbformat": 4,
 "nbformat_minor": 5
}
