{
 "cells": [
  {
   "cell_type": "code",
   "execution_count": 2,
   "metadata": {
    "pycharm": {
     "name": "#%%\n"
    }
   },
   "outputs": [],
   "source": [
    "import numpy as np"
   ]
  },
  {
   "cell_type": "code",
   "execution_count": 69,
   "metadata": {
    "pycharm": {
     "name": "#%%\n"
    }
   },
   "outputs": [
    {
     "ename": "ModuleNotFoundError",
     "evalue": "No module named 'sklearn'",
     "output_type": "error",
     "traceback": [
      "\u001b[0;31m---------------------------------------------------------------------------\u001b[0m",
      "\u001b[0;31mModuleNotFoundError\u001b[0m                       Traceback (most recent call last)",
      "Cell \u001b[0;32mIn[69], line 10\u001b[0m\n\u001b[1;32m      8\u001b[0m \u001b[38;5;28;01mimport\u001b[39;00m \u001b[38;5;21;01mipywidgets\u001b[39;00m \u001b[38;5;28;01mas\u001b[39;00m \u001b[38;5;21;01mwidgets\u001b[39;00m\n\u001b[1;32m      9\u001b[0m \u001b[38;5;28;01mfrom\u001b[39;00m \u001b[38;5;21;01mipywidgets\u001b[39;00m \u001b[38;5;28;01mimport\u001b[39;00m interact, interact_manual\n\u001b[0;32m---> 10\u001b[0m \u001b[38;5;28;01mfrom\u001b[39;00m \u001b[38;5;21;01msklearn\u001b[39;00m \u001b[38;5;28;01mimport\u001b[39;00m train_test_split\n\u001b[1;32m     11\u001b[0m \u001b[38;5;28;01mimport\u001b[39;00m \u001b[38;5;21;01mnumpy\u001b[39;00m \u001b[38;5;28;01mas\u001b[39;00m \u001b[38;5;21;01mnp\u001b[39;00m\n\u001b[1;32m     12\u001b[0m \u001b[38;5;28;01mimport\u001b[39;00m \u001b[38;5;21;01mpandas\u001b[39;00m \u001b[38;5;28;01mas\u001b[39;00m \u001b[38;5;21;01mpd\u001b[39;00m\n",
      "\u001b[0;31mModuleNotFoundError\u001b[0m: No module named 'sklearn'"
     ]
    }
   ],
   "source": [
    "import glob\n",
    "import os\n",
    "import random\n",
    "import sys\n",
    "from pathlib import Path\n",
    "from datetime import datetime\n",
    "\n",
    "import ipywidgets as widgets\n",
    "from ipywidgets import interact, interact_manual\n",
    "from sklearn import train_test_split\n",
    "import numpy as np\n",
    "import pandas as pd\n",
    "import matplotlib.pyplot as plt\n",
    "import seaborn as sns\n",
    "from mpl_toolkits.axes_grid1 import ImageGrid\n",
    "import rasterio as rio\n",
    "\n",
    "sys.path.append('../../')\n",
    "\n",
    "from sar_eddy_utils.gee_download.utils import *"
   ]
  },
  {
   "cell_type": "code",
   "execution_count": 9,
   "metadata": {
    "pycharm": {
     "name": "#%%\n"
    }
   },
   "outputs": [],
   "source": [
    "med_20km_all_csv = Path('/scratch/08452/kaipak/datasets/gee_sar_100k_reference_v1.0.0523/validation_med_linear_labels.csv')\n",
    "df_med_20km_all = pd.read_csv(med_20km_all_csv)"
   ]
  },
  {
   "cell_type": "code",
   "execution_count": 10,
   "metadata": {
    "pycharm": {
     "name": "#%%\n"
    }
   },
   "outputs": [
    {
     "data": {
      "text/html": [
       "<div>\n",
       "<style scoped>\n",
       "    .dataframe tbody tr th:only-of-type {\n",
       "        vertical-align: middle;\n",
       "    }\n",
       "\n",
       "    .dataframe tbody tr th {\n",
       "        vertical-align: top;\n",
       "    }\n",
       "\n",
       "    .dataframe thead th {\n",
       "        text-align: right;\n",
       "    }\n",
       "</style>\n",
       "<table border=\"1\" class=\"dataframe\">\n",
       "  <thead>\n",
       "    <tr style=\"text-align: right;\">\n",
       "      <th></th>\n",
       "      <th>image</th>\n",
       "      <th>label</th>\n",
       "    </tr>\n",
       "  </thead>\n",
       "  <tbody>\n",
       "    <tr>\n",
       "      <th>0</th>\n",
       "      <td>validation/linear/mediterranean/S1A_IW_GRDH_1S...</td>\n",
       "      <td>0</td>\n",
       "    </tr>\n",
       "    <tr>\n",
       "      <th>1</th>\n",
       "      <td>validation/linear/mediterranean/S1A_IW_GRDH_1S...</td>\n",
       "      <td>0</td>\n",
       "    </tr>\n",
       "    <tr>\n",
       "      <th>2</th>\n",
       "      <td>validation/linear/mediterranean/S1A_IW_GRDH_1S...</td>\n",
       "      <td>0</td>\n",
       "    </tr>\n",
       "    <tr>\n",
       "      <th>3</th>\n",
       "      <td>validation/linear/mediterranean/S1A_IW_GRDH_1S...</td>\n",
       "      <td>0</td>\n",
       "    </tr>\n",
       "    <tr>\n",
       "      <th>4</th>\n",
       "      <td>validation/linear/mediterranean/S1A_IW_GRDH_1S...</td>\n",
       "      <td>0</td>\n",
       "    </tr>\n",
       "  </tbody>\n",
       "</table>\n",
       "</div>"
      ],
      "text/plain": [
       "                                               image  label\n",
       "0  validation/linear/mediterranean/S1A_IW_GRDH_1S...      0\n",
       "1  validation/linear/mediterranean/S1A_IW_GRDH_1S...      0\n",
       "2  validation/linear/mediterranean/S1A_IW_GRDH_1S...      0\n",
       "3  validation/linear/mediterranean/S1A_IW_GRDH_1S...      0\n",
       "4  validation/linear/mediterranean/S1A_IW_GRDH_1S...      0"
      ]
     },
     "execution_count": 10,
     "metadata": {},
     "output_type": "execute_result"
    }
   ],
   "source": [
    "df_med_20km_all.head()"
   ]
  },
  {
   "cell_type": "code",
   "execution_count": 36,
   "metadata": {
    "pycharm": {
     "name": "#%%\n"
    }
   },
   "outputs": [
    {
     "data": {
      "text/plain": [
       "label\n",
       "0    1983\n",
       "1     517\n",
       "dtype: int64"
      ]
     },
     "execution_count": 36,
     "metadata": {},
     "output_type": "execute_result"
    }
   ],
   "source": [
    "df_test = df_med_20km_all.sample(2500, replace=False)\n",
    "df_test.groupby(by='label').size()"
   ]
  },
  {
   "cell_type": "code",
   "execution_count": 40,
   "metadata": {
    "pycharm": {
     "name": "#%%\n"
    }
   },
   "outputs": [],
   "source": [
    "df_val = df_med_20km_all[~df_med_20km_all.image.isin(df_test.image)]"
   ]
  },
  {
   "cell_type": "code",
   "execution_count": 41,
   "metadata": {
    "pycharm": {
     "name": "#%%\n"
    }
   },
   "outputs": [
    {
     "data": {
      "text/plain": [
       "(29301, 2)"
      ]
     },
     "execution_count": 41,
     "metadata": {},
     "output_type": "execute_result"
    }
   ],
   "source": [
    "df_val.shape"
   ]
  },
  {
   "cell_type": "code",
   "execution_count": 42,
   "metadata": {
    "pycharm": {
     "name": "#%%\n"
    }
   },
   "outputs": [
    {
     "data": {
      "text/plain": [
       "(31801, 2)"
      ]
     },
     "execution_count": 42,
     "metadata": {},
     "output_type": "execute_result"
    }
   ],
   "source": [
    "df_med_20km_all.shape"
   ]
  },
  {
   "cell_type": "code",
   "execution_count": 44,
   "metadata": {
    "pycharm": {
     "name": "#%%\n"
    }
   },
   "outputs": [
    {
     "data": {
      "text/plain": [
       "False"
      ]
     },
     "execution_count": 44,
     "metadata": {},
     "output_type": "execute_result"
    }
   ],
   "source": [
    "df_test.image.isin(df_val.image).any()"
   ]
  },
  {
   "cell_type": "code",
   "execution_count": 47,
   "metadata": {
    "pycharm": {
     "name": "#%%\n"
    }
   },
   "outputs": [],
   "source": [
    "df_val.to_csv('/scratch/08452/kaipak/datasets/gee_sar_100k_reference_v1.0.0523/validation_med_subset_linear_labels.csv', index=False)\n",
    "df_test.to_csv('/scratch/08452/kaipak/datasets/gee_sar_100k_reference_v1.0.0523/test_med_subset_linear_labels.csv', index=False)"
   ]
  },
  {
   "cell_type": "code",
   "execution_count": null,
   "metadata": {
    "pycharm": {
     "name": "#%%\n"
    }
   },
   "outputs": [],
   "source": [
    "df_1pct = pd.read_csv('/home1/08452/kaipak/clover_shared/corral/datasets/gee_sar_100k_reference_v1.0.0523/validation_med_subset_linear_labels_1pct.csv')"
   ]
  },
  {
   "cell_type": "code",
   "execution_count": null,
   "metadata": {
    "pycharm": {
     "name": "#%%\n"
    }
   },
   "outputs": [],
   "source": [
    "df_1pct.groupby(by='label').size()"
   ]
  },
  {
   "cell_type": "code",
   "execution_count": null,
   "metadata": {
    "pycharm": {
     "name": "#%%\n"
    }
   },
   "outputs": [],
   "source": [
    "df_1pct.head()"
   ]
  },
  {
   "cell_type": "code",
   "execution_count": null,
   "metadata": {
    "pycharm": {
     "name": "#%%\n"
    }
   },
   "outputs": [],
   "source": []
  },
  {
   "cell_type": "code",
   "execution_count": 11,
   "metadata": {
    "pycharm": {
     "name": "#%%\n"
    }
   },
   "outputs": [
    {
     "data": {
      "text/plain": [
       "label\n",
       "0    230\n",
       "1     63\n",
       "dtype: int64"
      ]
     },
     "execution_count": 11,
     "metadata": {},
     "output_type": "execute_result"
    }
   ],
   "source": [
    "df_1pct.groupby(by='label').size()"
   ]
  },
  {
   "cell_type": "code",
   "execution_count": 10,
   "metadata": {
    "pycharm": {
     "name": "#%%\n"
    }
   },
   "outputs": [
    {
     "data": {
      "text/html": [
       "<div>\n",
       "<style scoped>\n",
       "    .dataframe tbody tr th:only-of-type {\n",
       "        vertical-align: middle;\n",
       "    }\n",
       "\n",
       "    .dataframe tbody tr th {\n",
       "        vertical-align: top;\n",
       "    }\n",
       "\n",
       "    .dataframe thead th {\n",
       "        text-align: right;\n",
       "    }\n",
       "</style>\n",
       "<table border=\"1\" class=\"dataframe\">\n",
       "  <thead>\n",
       "    <tr style=\"text-align: right;\">\n",
       "      <th></th>\n",
       "      <th>image</th>\n",
       "      <th>label</th>\n",
       "    </tr>\n",
       "  </thead>\n",
       "  <tbody>\n",
       "    <tr>\n",
       "      <th>0</th>\n",
       "      <td>validation/linear/mediterranean/S1A_IW_GRDH_1S...</td>\n",
       "      <td>0</td>\n",
       "    </tr>\n",
       "    <tr>\n",
       "      <th>1</th>\n",
       "      <td>validation/linear/mediterranean/S1A_IW_GRDH_1S...</td>\n",
       "      <td>0</td>\n",
       "    </tr>\n",
       "    <tr>\n",
       "      <th>2</th>\n",
       "      <td>validation/linear/mediterranean/S1A_IW_GRDH_1S...</td>\n",
       "      <td>0</td>\n",
       "    </tr>\n",
       "    <tr>\n",
       "      <th>3</th>\n",
       "      <td>validation/linear/mediterranean/S1B_IW_GRDH_1S...</td>\n",
       "      <td>0</td>\n",
       "    </tr>\n",
       "    <tr>\n",
       "      <th>4</th>\n",
       "      <td>validation/linear/mediterranean/S1A_IW_GRDH_1S...</td>\n",
       "      <td>0</td>\n",
       "    </tr>\n",
       "  </tbody>\n",
       "</table>\n",
       "</div>"
      ],
      "text/plain": [
       "                                               image  label\n",
       "0  validation/linear/mediterranean/S1A_IW_GRDH_1S...      0\n",
       "1  validation/linear/mediterranean/S1A_IW_GRDH_1S...      0\n",
       "2  validation/linear/mediterranean/S1A_IW_GRDH_1S...      0\n",
       "3  validation/linear/mediterranean/S1B_IW_GRDH_1S...      0\n",
       "4  validation/linear/mediterranean/S1A_IW_GRDH_1S...      0"
      ]
     },
     "execution_count": 10,
     "metadata": {},
     "output_type": "execute_result"
    }
   ],
   "source": [
    "df_1pct.head()"
   ]
  },
  {
   "cell_type": "code",
   "execution_count": null,
   "metadata": {
    "collapsed": false,
    "jupyter": {
     "outputs_hidden": false
    },
    "pycharm": {
     "name": "#%%\n"
    }
   },
   "outputs": [],
   "source": [
    "## Generate 10 Geophysical Phenomena Dataset\n",
    "Convert from ImageFolder format to folder filled with image with annotation file."
   ]
  },
  {
   "cell_type": "code",
   "execution_count": 59,
   "metadata": {
    "pycharm": {
     "name": "#%%\n"
    }
   },
   "outputs": [
    {
     "data": {
      "text/plain": [
       "['G', 'F', 'O', 'L', 'N', 'K', 'M', 'J', 'I', 'H']"
      ]
     },
     "execution_count": 59,
     "metadata": {},
     "output_type": "execute_result"
    }
   ],
   "source": [
    "data_dir = Path('/home1/08452/kaipak/clover_shared/corral/datasets/ten_geophysical_phenomena/GeoTIFF')\n",
    "classes_from_dir = os.listdir(data_dir)\n",
    "classes_from_dir"
   ]
  },
  {
   "cell_type": "code",
   "execution_count": 66,
   "metadata": {
    "pycharm": {
     "name": "#%%\n"
    }
   },
   "outputs": [],
   "source": [
    "df_annotations = pd.DataFrame(columns=['image', 'label'])\n",
    "# classes_from_dir = ['G']\n",
    "\n",
    "for cls in classes_from_dir:\n",
    "    image_files = [os.path.join(cls, img_file) for img_file in os.listdir(os.path.join(data_dir, cls))]\n",
    "    labels = pd.Series([cls]).repeat(len(image_files))\n",
    "    df_annotations = pd.concat([df_annotations, pd.DataFrame({'image': image_files, \n",
    "                                                              'label': labels})])\n",
    "    \n",
    "df_annotations = df_annotations.sample(frac=1)"
   ]
  },
  {
   "cell_type": "code",
   "execution_count": 67,
   "metadata": {
    "pycharm": {
     "name": "#%%\n"
    }
   },
   "outputs": [
    {
     "data": {
      "text/html": [
       "<div>\n",
       "<style scoped>\n",
       "    .dataframe tbody tr th:only-of-type {\n",
       "        vertical-align: middle;\n",
       "    }\n",
       "\n",
       "    .dataframe tbody tr th {\n",
       "        vertical-align: top;\n",
       "    }\n",
       "\n",
       "    .dataframe thead th {\n",
       "        text-align: right;\n",
       "    }\n",
       "</style>\n",
       "<table border=\"1\" class=\"dataframe\">\n",
       "  <thead>\n",
       "    <tr style=\"text-align: right;\">\n",
       "      <th></th>\n",
       "      <th>image</th>\n",
       "      <th>label</th>\n",
       "    </tr>\n",
       "  </thead>\n",
       "  <tbody>\n",
       "    <tr>\n",
       "      <th>0</th>\n",
       "      <td>I/s1a-wv2-slc-vv-20160323t053118-20160323t0531...</td>\n",
       "      <td>I</td>\n",
       "    </tr>\n",
       "    <tr>\n",
       "      <th>0</th>\n",
       "      <td>L/s1a-wv1-slc-vv-20161203t224102-20161203t2241...</td>\n",
       "      <td>L</td>\n",
       "    </tr>\n",
       "    <tr>\n",
       "      <th>0</th>\n",
       "      <td>G/s1a-wv2-slc-vv-20160114t131316-20160114t1313...</td>\n",
       "      <td>G</td>\n",
       "    </tr>\n",
       "    <tr>\n",
       "      <th>0</th>\n",
       "      <td>F/s1a-wv1-slc-vv-20160529t023940-20160529t0239...</td>\n",
       "      <td>F</td>\n",
       "    </tr>\n",
       "    <tr>\n",
       "      <th>0</th>\n",
       "      <td>H/s1a-wv2-slc-vv-20160720t230333-20160720t2303...</td>\n",
       "      <td>H</td>\n",
       "    </tr>\n",
       "    <tr>\n",
       "      <th>...</th>\n",
       "      <td>...</td>\n",
       "      <td>...</td>\n",
       "    </tr>\n",
       "    <tr>\n",
       "      <th>0</th>\n",
       "      <td>I/s1a-wv2-slc-vv-20160428t234117-20160428t2341...</td>\n",
       "      <td>I</td>\n",
       "    </tr>\n",
       "    <tr>\n",
       "      <th>0</th>\n",
       "      <td>L/s1a-wv1-slc-vv-20161222t043845-20161222t0438...</td>\n",
       "      <td>L</td>\n",
       "    </tr>\n",
       "    <tr>\n",
       "      <th>0</th>\n",
       "      <td>K/s1a-wv2-slc-vv-20160814t140442-20160814t1404...</td>\n",
       "      <td>K</td>\n",
       "    </tr>\n",
       "    <tr>\n",
       "      <th>0</th>\n",
       "      <td>G/s1a-wv2-slc-vv-20160827t100815-20160827t1008...</td>\n",
       "      <td>G</td>\n",
       "    </tr>\n",
       "    <tr>\n",
       "      <th>0</th>\n",
       "      <td>M/s1a-wv1-slc-vv-20161021t173850-20161021t1738...</td>\n",
       "      <td>M</td>\n",
       "    </tr>\n",
       "  </tbody>\n",
       "</table>\n",
       "<p>37553 rows × 2 columns</p>\n",
       "</div>"
      ],
      "text/plain": [
       "                                                image label\n",
       "0   I/s1a-wv2-slc-vv-20160323t053118-20160323t0531...     I\n",
       "0   L/s1a-wv1-slc-vv-20161203t224102-20161203t2241...     L\n",
       "0   G/s1a-wv2-slc-vv-20160114t131316-20160114t1313...     G\n",
       "0   F/s1a-wv1-slc-vv-20160529t023940-20160529t0239...     F\n",
       "0   H/s1a-wv2-slc-vv-20160720t230333-20160720t2303...     H\n",
       "..                                                ...   ...\n",
       "0   I/s1a-wv2-slc-vv-20160428t234117-20160428t2341...     I\n",
       "0   L/s1a-wv1-slc-vv-20161222t043845-20161222t0438...     L\n",
       "0   K/s1a-wv2-slc-vv-20160814t140442-20160814t1404...     K\n",
       "0   G/s1a-wv2-slc-vv-20160827t100815-20160827t1008...     G\n",
       "0   M/s1a-wv1-slc-vv-20161021t173850-20161021t1738...     M\n",
       "\n",
       "[37553 rows x 2 columns]"
      ]
     },
     "execution_count": 67,
     "metadata": {},
     "output_type": "execute_result"
    }
   ],
   "source": [
    "df_annotations"
   ]
  },
  {
   "cell_type": "code",
   "execution_count": 65,
   "metadata": {
    "pycharm": {
     "name": "#%%\n"
    }
   },
   "outputs": [
    {
     "name": "stdout",
     "output_type": "stream",
     "text": [
      "zsh: parse error near `()'\r\n"
     ]
    }
   ],
   "source": [
    "!pd.DataFrames.sample()"
   ]
  },
  {
   "cell_type": "code",
   "execution_count": 38,
   "metadata": {
    "pycharm": {
     "name": "#%%\n"
    }
   },
   "outputs": [
    {
     "data": {
      "text/plain": [
       "0    G\n",
       "0    G\n",
       "0    G\n",
       "0    G\n",
       "0    G\n",
       "    ..\n",
       "0    G\n",
       "0    G\n",
       "0    G\n",
       "0    G\n",
       "0    G\n",
       "Length: 4797, dtype: object"
      ]
     },
     "execution_count": 38,
     "metadata": {},
     "output_type": "execute_result"
    }
   ],
   "source": [
    "labels"
   ]
  },
  {
   "cell_type": "code",
   "execution_count": null,
   "metadata": {
    "pycharm": {
     "name": "#%%\n"
    }
   },
   "outputs": [
    {
     "name": "stdout",
     "output_type": "stream",
     "text": [
      "\n",
      "                  __    __    __    __\n",
      "                 /  \\  /  \\  /  \\  /  \\\n",
      "                /    \\/    \\/    \\/    \\\n",
      "███████████████/  /██/  /██/  /██/  /████████████████████████\n",
      "              /  / \\   / \\   / \\   / \\  \\____\n",
      "             /  /   \\_/   \\_/   \\_/   \\    o \\__,\n",
      "            / _/                       \\_____/  `\n",
      "            |/\n",
      "        ███╗   ███╗ █████╗ ███╗   ███╗██████╗  █████╗\n",
      "        ████╗ ████║██╔══██╗████╗ ████║██╔══██╗██╔══██╗\n",
      "        ██╔████╔██║███████║██╔████╔██║██████╔╝███████║\n",
      "        ██║╚██╔╝██║██╔══██║██║╚██╔╝██║██╔══██╗██╔══██║\n",
      "        ██║ ╚═╝ ██║██║  ██║██║ ╚═╝ ██║██████╔╝██║  ██║\n",
      "        ╚═╝     ╚═╝╚═╝  ╚═╝╚═╝     ╚═╝╚═════╝ ╚═╝  ╚═╝\n",
      "\n",
      "        mamba (1.1.0) supported by @QuantStack\n",
      "\n",
      "        GitHub:  https://github.com/mamba-org/mamba\n",
      "        Twitter: https://twitter.com/QuantStack\n",
      "\n",
      "█████████████████████████████████████████████████████████████\n",
      "\n",
      "\n",
      "Looking for: ['sklearn']\n",
      "\n",
      "\u001b[?25l\u001b[2K\u001b[0G[+] 0.0s\n",
      "\u001b[2K\u001b[1A\u001b[2K\u001b[0G[+] 0.1s\n",
      "conda-forge/linux-64 \u001b[33m━━━━━━━━━━━━━━━╸\u001b[0m\u001b[90m━━━━━━━\u001b[0m   0.0 B /  ??.?MB @  ??.?MB/s  0.1s\n",
      "conda-forge/noarch   \u001b[90m━━━╸\u001b[0m\u001b[33m━━━━━━━━━━━━━━━╸\u001b[0m\u001b[90m━━━\u001b[0m   0.0 B /  ??.?MB @  ??.?MB/s  0.1s\u001b[2K\u001b[1A\u001b[2K\u001b[1A\u001b[2K\u001b[0G[+] 0.2s\n",
      "conda-forge/linux-64 \u001b[90m╸\u001b[0m\u001b[33m━━━━━━━━━━━━━━━╸\u001b[0m\u001b[90m━━━━━━\u001b[0m   0.0 B /  ??.?MB @  ??.?MB/s  0.2s\n",
      "conda-forge/noarch   \u001b[90m━━━━╸\u001b[0m\u001b[33m━━━━━━━━━━━━━━━╸\u001b[0m\u001b[90m━━\u001b[0m   0.0 B /  ??.?MB @  ??.?MB/s  0.2s\u001b[2K\u001b[1A\u001b[2K\u001b[1A\u001b[2K\u001b[0G[+] 0.3s\n",
      "conda-forge/linux-64 \u001b[90m━━╸\u001b[0m\u001b[33m━━━━━━━━━━━━━━━╸\u001b[0m\u001b[90m━━━━\u001b[0m   0.0 B /  ??.?MB @  ??.?MB/s  0.3s\n",
      "conda-forge/noarch   \u001b[90m━━━━━━╸\u001b[0m\u001b[33m━━━━━━━━━━━━━━━━\u001b[0m   0.0 B /  ??.?MB @  ??.?MB/s  0.3s\u001b[2K\u001b[1A\u001b[2K\u001b[1A\u001b[2K\u001b[0G[+] 0.4s\n",
      "conda-forge/linux-64 \u001b[90m━━╸\u001b[0m\u001b[33m━━━━━━━━━━━━━━━╸\u001b[0m\u001b[90m━━━━\u001b[0m   0.0 B /  ??.?MB @  ??.?MB/s  0.4s\n",
      "conda-forge/noarch   \u001b[90m━━━━━━╸\u001b[0m\u001b[33m━━━━━━━━━━━━━━━━\u001b[0m   0.0 B /  ??.?MB @  ??.?MB/s  0.4s\u001b[2K\u001b[1A\u001b[2K\u001b[1A\u001b[2K\u001b[0G[+] 0.5s\n",
      "conda-forge/linux-64 \u001b[90m━━━╸\u001b[0m\u001b[33m━━━━━━━━━━━━━━━╸\u001b[0m\u001b[90m━━━\u001b[0m   0.0 B /  ??.?MB @  ??.?MB/s  0.5s\n",
      "conda-forge/noarch   \u001b[90m━━━━━━━╸\u001b[0m\u001b[33m━━━━━━━━━━━━━━━\u001b[0m   0.0 B /  ??.?MB @  ??.?MB/s  0.5s\u001b[2K\u001b[1A\u001b[2K\u001b[1A\u001b[2K\u001b[0G[+] 0.6s\n",
      "conda-forge/linux-64 \u001b[90m━━━━╸\u001b[0m\u001b[33m━━━━━━━━━━━━━━━╸\u001b[0m\u001b[90m━━\u001b[0m   3.6kB /  ??.?MB @   6.6kB/s  0.6s\n",
      "conda-forge/noarch   \u001b[90m━━━━━━━━╸\u001b[0m\u001b[33m━━━━━━━━━━━━━━\u001b[0m   0.0 B /  ??.?MB @  ??.?MB/s  0.6s\u001b[2K\u001b[1A\u001b[2K\u001b[1A\u001b[2K\u001b[0G[+] 0.7s\n",
      "conda-forge/linux-64 \u001b[90m━━━━━━╸\u001b[0m\u001b[33m━━━━━━━━━━━━━━━━\u001b[0m 433.0kB /  ??.?MB @ 666.2kB/s  0.7s\n",
      "conda-forge/noarch   \u001b[90m━━━━━━━━━━╸\u001b[0m\u001b[33m━━━━━━━━━━━━\u001b[0m 357.3kB /  ??.?MB @ 550.5kB/s  0.7s\u001b[2K\u001b[1A\u001b[2K\u001b[1A\u001b[2K\u001b[0G[+] 0.8s\n",
      "conda-forge/linux-64 \u001b[90m━━━━━━━━╸\u001b[0m\u001b[33m━━━━━━━━━━━━━━\u001b[0m 936.0kB /  ??.?MB @   1.2MB/s  0.8s\n",
      "conda-forge/noarch   \u001b[90m━━━━━━━━━━━━╸\u001b[0m\u001b[33m━━━━━━━━━━\u001b[0m 819.2kB /  ??.?MB @   1.1MB/s  0.8s\u001b[2K\u001b[1A\u001b[2K\u001b[1A\u001b[2K\u001b[0G[+] 0.9s\n",
      "conda-forge/linux-64 \u001b[90m━━━━━━━━━━╸\u001b[0m\u001b[33m━━━━━━━━━━━━\u001b[0m   1.4MB /  ??.?MB @   1.6MB/s  0.9s\n",
      "conda-forge/noarch   \u001b[33m━━━━━━━━╸\u001b[0m\u001b[90m━━━━━━━━━━━━━━\u001b[0m   1.3MB /  ??.?MB @   1.6MB/s  0.9s\u001b[2K\u001b[1A\u001b[2K\u001b[1A\u001b[2K\u001b[0G[+] 1.0s\n",
      "conda-forge/linux-64 \u001b[90m━━━━━━━━━━━━━╸\u001b[0m\u001b[33m━━━━━━━━━\u001b[0m   1.8MB /  ??.?MB @   1.9MB/s  1.0s\n",
      "conda-forge/noarch   \u001b[33m━━━━━━━━━━━╸\u001b[0m\u001b[90m━━━━━━━━━━━\u001b[0m   1.9MB /  ??.?MB @   2.0MB/s  1.0s\u001b[2K\u001b[1A\u001b[2K\u001b[1A\u001b[2K\u001b[0G[+] 1.1s\n",
      "conda-forge/linux-64 \u001b[33m━━━━━━━━━╸\u001b[0m\u001b[90m━━━━━━━━━━━━━\u001b[0m   2.3MB /  ??.?MB @   2.2MB/s  1.1s\n",
      "conda-forge/noarch   \u001b[33m━━━━━━━━━━━━━╸\u001b[0m\u001b[90m━━━━━━━━━\u001b[0m   2.4MB /  ??.?MB @   2.2MB/s  1.1s\u001b[2K\u001b[1A\u001b[2K\u001b[1A\u001b[2K\u001b[0G[+] 1.2s\n",
      "conda-forge/linux-64 \u001b[33m━━━━━━━━━━━╸\u001b[0m\u001b[90m━━━━━━━━━━━\u001b[0m   2.8MB /  ??.?MB @   2.4MB/s  1.2s\n",
      "conda-forge/noarch   \u001b[33m━━━━━━━━━━━━━━━╸\u001b[0m\u001b[90m━━━━━━━\u001b[0m   2.8MB /  ??.?MB @   2.4MB/s  1.2s\u001b[2K\u001b[1A\u001b[2K\u001b[1A\u001b[2K\u001b[0G[+] 1.3s\n",
      "conda-forge/linux-64 \u001b[33m━━━━━━━━━━━━━╸\u001b[0m\u001b[90m━━━━━━━━━\u001b[0m   3.3MB /  ??.?MB @   2.6MB/s  1.3s\n",
      "conda-forge/noarch   \u001b[90m━╸\u001b[0m\u001b[33m━━━━━━━━━━━━━━━╸\u001b[0m\u001b[90m━━━━━\u001b[0m   3.2MB /  ??.?MB @   2.6MB/s  1.3s\u001b[2K\u001b[1A\u001b[2K\u001b[1A\u001b[2K\u001b[0G[+] 1.4s\n",
      "conda-forge/linux-64 \u001b[33m━━━━━━━━━━━━━━━╸\u001b[0m\u001b[90m━━━━━━━\u001b[0m   3.7MB /  ??.?MB @   2.8MB/s  1.4s\n",
      "conda-forge/noarch   \u001b[90m━━━╸\u001b[0m\u001b[33m━━━━━━━━━━━━━━━╸\u001b[0m\u001b[90m━━━\u001b[0m   3.7MB /  ??.?MB @   2.7MB/s  1.4s\u001b[2K\u001b[1A\u001b[2K\u001b[1A\u001b[2K\u001b[0G[+] 1.5s\n",
      "conda-forge/linux-64 \u001b[90m━━╸\u001b[0m\u001b[33m━━━━━━━━━━━━━━━╸\u001b[0m\u001b[90m━━━━\u001b[0m   4.2MB /  ??.?MB @   2.9MB/s  1.5s\n",
      "conda-forge/noarch   \u001b[90m━━━━━━╸\u001b[0m\u001b[33m━━━━━━━━━━━━━━━━\u001b[0m   4.2MB /  ??.?MB @   2.9MB/s  1.5s\u001b[2K\u001b[1A\u001b[2K\u001b[1A\u001b[2K\u001b[0G[+] 1.6s\n",
      "conda-forge/linux-64 \u001b[90m━━━━╸\u001b[0m\u001b[33m━━━━━━━━━━━━━━━╸\u001b[0m\u001b[90m━━\u001b[0m   4.7MB /  ??.?MB @   3.0MB/s  1.6s\n",
      "conda-forge/noarch   \u001b[90m━━━━━━━━╸\u001b[0m\u001b[33m━━━━━━━━━━━━━━\u001b[0m   4.5MB /  ??.?MB @   2.9MB/s  1.6s\u001b[2K\u001b[1A\u001b[2K\u001b[1A\u001b[2K\u001b[0G[+] 1.7s\n",
      "conda-forge/linux-64 \u001b[90m━━━━━━╸\u001b[0m\u001b[33m━━━━━━━━━━━━━━━━\u001b[0m   5.2MB /  ??.?MB @   3.1MB/s  1.7s\n",
      "conda-forge/noarch   \u001b[90m━━━━━━━━━━╸\u001b[0m\u001b[33m━━━━━━━━━━━━\u001b[0m   4.9MB /  ??.?MB @   3.0MB/s  1.7s\u001b[2K\u001b[1A\u001b[2K\u001b[1A\u001b[2K\u001b[0G[+] 1.8s\n",
      "conda-forge/linux-64 \u001b[90m━━━━━━━━╸\u001b[0m\u001b[33m━━━━━━━━━━━━━━\u001b[0m   5.7MB /  ??.?MB @   3.2MB/s  1.8s\n",
      "conda-forge/noarch   \u001b[90m━━━━━━━━━━━━╸\u001b[0m\u001b[33m━━━━━━━━━━\u001b[0m   5.3MB /  ??.?MB @   3.0MB/s  1.8s\u001b[2K\u001b[1A\u001b[2K\u001b[1A\u001b[2K\u001b[0G[+] 1.9s\n",
      "conda-forge/linux-64 \u001b[90m━━━━━━━━━━╸\u001b[0m\u001b[33m━━━━━━━━━━━━\u001b[0m   6.2MB /  ??.?MB @   3.3MB/s  1.9s\n",
      "conda-forge/noarch   \u001b[33m━━━━━━━━╸\u001b[0m\u001b[90m━━━━━━━━━━━━━━\u001b[0m   5.7MB /  ??.?MB @   3.1MB/s  1.9s\u001b[2K\u001b[1A\u001b[2K\u001b[1A\u001b[2K\u001b[0G[+] 2.0s\n",
      "conda-forge/linux-64 \u001b[90m━━━━━━━━━━━━━╸\u001b[0m\u001b[33m━━━━━━━━━\u001b[0m   6.6MB /  ??.?MB @   3.4MB/s  2.0s\n",
      "conda-forge/noarch   \u001b[33m━━━━━━━━━━━╸\u001b[0m\u001b[90m━━━━━━━━━━━\u001b[0m   6.2MB /  ??.?MB @   3.1MB/s  2.0s\u001b[2K\u001b[1A\u001b[2K\u001b[1A\u001b[2K\u001b[0G[+] 2.1s\n",
      "conda-forge/linux-64 \u001b[33m━━━━━━━━━╸\u001b[0m\u001b[90m━━━━━━━━━━━━━\u001b[0m   7.1MB /  ??.?MB @   3.4MB/s  2.1s\n",
      "conda-forge/noarch   \u001b[33m━━━━━━━━━━━━━╸\u001b[0m\u001b[90m━━━━━━━━━\u001b[0m   6.6MB /  ??.?MB @   3.2MB/s  2.1s\u001b[2K\u001b[1A\u001b[2K\u001b[1A\u001b[2K\u001b[0G[+] 2.2s\n",
      "conda-forge/linux-64 \u001b[33m━━━━━━━━━━━╸\u001b[0m\u001b[90m━━━━━━━━━━━\u001b[0m   7.5MB /  ??.?MB @   3.5MB/s  2.2s\n",
      "conda-forge/noarch   \u001b[33m━━━━━━━━━━━━━━━╸\u001b[0m\u001b[90m━━━━━━━\u001b[0m   7.0MB /  ??.?MB @   3.2MB/s  2.2s\u001b[2K\u001b[1A\u001b[2K\u001b[1A\u001b[2K\u001b[0G[+] 2.3s\n",
      "conda-forge/linux-64 \u001b[33m━━━━━━━━━━━━━╸\u001b[0m\u001b[90m━━━━━━━━━\u001b[0m   7.9MB /  ??.?MB @   3.5MB/s  2.3s\n",
      "conda-forge/noarch   \u001b[90m━╸\u001b[0m\u001b[33m━━━━━━━━━━━━━━━╸\u001b[0m\u001b[90m━━━━━\u001b[0m   7.3MB /  ??.?MB @   3.2MB/s  2.3s\u001b[2K\u001b[1A\u001b[2K\u001b[1A\u001b[2K\u001b[0G[+] 2.4s\n",
      "conda-forge/linux-64 \u001b[33m━━━━━━━━━━━━━━━╸\u001b[0m\u001b[90m━━━━━━━\u001b[0m   8.4MB /  ??.?MB @   3.6MB/s  2.4s\n",
      "conda-forge/noarch   \u001b[90m━━━╸\u001b[0m\u001b[33m━━━━━━━━━━━━━━━╸\u001b[0m\u001b[90m━━━\u001b[0m   7.8MB /  ??.?MB @   3.3MB/s  2.4s\u001b[2K\u001b[1A\u001b[2K\u001b[1A\u001b[2K\u001b[0G[+] 2.5s\n",
      "conda-forge/linux-64 \u001b[90m━━╸\u001b[0m\u001b[33m━━━━━━━━━━━━━━━╸\u001b[0m\u001b[90m━━━━\u001b[0m   8.9MB /  ??.?MB @   3.6MB/s  2.5s\n",
      "conda-forge/noarch   \u001b[90m━━━━━━╸\u001b[0m\u001b[33m━━━━━━━━━━━━━━━━\u001b[0m   8.2MB /  ??.?MB @   3.3MB/s  2.5s\u001b[2K\u001b[1A\u001b[2K\u001b[1A\u001b[2K\u001b[0G[+] 2.6s\n",
      "conda-forge/linux-64 \u001b[90m━━━━╸\u001b[0m\u001b[33m━━━━━━━━━━━━━━━╸\u001b[0m\u001b[90m━━\u001b[0m   9.3MB /  ??.?MB @   3.6MB/s  2.6s\n",
      "conda-forge/noarch   \u001b[90m━━━━━━━━╸\u001b[0m\u001b[33m━━━━━━━━━━━━━━\u001b[0m   8.6MB /  ??.?MB @   3.4MB/s  2.6s\u001b[2K\u001b[1A\u001b[2K\u001b[1A\u001b[2K\u001b[0G[+] 2.7s\n",
      "conda-forge/linux-64 \u001b[90m━━━━━━╸\u001b[0m\u001b[33m━━━━━━━━━━━━━━━━\u001b[0m   9.8MB /  ??.?MB @   3.7MB/s  2.7s\n",
      "conda-forge/noarch   \u001b[90m━━━━━━━━━━╸\u001b[0m\u001b[33m━━━━━━━━━━━━\u001b[0m   9.0MB /  ??.?MB @   3.4MB/s  2.7s\u001b[2K\u001b[1A\u001b[2K\u001b[1A\u001b[2K\u001b[0G[+] 2.8s\n",
      "conda-forge/linux-64 \u001b[90m━━━━━━━━╸\u001b[0m\u001b[33m━━━━━━━━━━━━━━\u001b[0m  10.2MB /  ??.?MB @   3.7MB/s  2.8s\n",
      "conda-forge/noarch   \u001b[90m━━━━━━━━━━━━╸\u001b[0m\u001b[33m━━━━━━━━━━\u001b[0m   9.5MB /  ??.?MB @   3.4MB/s  2.8s\u001b[2K\u001b[1A\u001b[2K\u001b[1A\u001b[2K\u001b[0G[+] 2.9s\n",
      "conda-forge/linux-64 \u001b[90m━━━━━━━━━━╸\u001b[0m\u001b[33m━━━━━━━━━━━━\u001b[0m  10.7MB /  ??.?MB @   3.7MB/s  2.9s\n",
      "conda-forge/noarch   \u001b[33m━━━━━━━━╸\u001b[0m\u001b[90m━━━━━━━━━━━━━━\u001b[0m  10.0MB /  ??.?MB @   3.5MB/s  2.9s\u001b[2K\u001b[1A\u001b[2K\u001b[1A\u001b[2K\u001b[0G[+] 3.0s\n",
      "conda-forge/linux-64 \u001b[90m━━━━━━━━━━━━━╸\u001b[0m\u001b[33m━━━━━━━━━\u001b[0m  11.2MB /  ??.?MB @   3.8MB/s  3.0s\n",
      "conda-forge/noarch   \u001b[33m━━━━━━━━━━━╸\u001b[0m\u001b[90m━━━━━━━━━━━\u001b[0m  10.3MB /  ??.?MB @   3.5MB/s  3.0s\u001b[2K\u001b[1A\u001b[2K\u001b[1A\u001b[2K\u001b[0G[+] 3.1s\n",
      "conda-forge/linux-64 \u001b[33m━━━━━━━━━╸\u001b[0m\u001b[90m━━━━━━━━━━━━━\u001b[0m  11.7MB /  ??.?MB @   3.8MB/s  3.1s\n"
     ]
    },
    {
     "name": "stdout",
     "output_type": "stream",
     "text": [
      "conda-forge/noarch   \u001b[33m━━━━━━━━━━━━━╸\u001b[0m\u001b[90m━━━━━━━━━\u001b[0m  10.8MB /  ??.?MB @   3.5MB/s  3.1s\u001b[2K\u001b[1A\u001b[2K\u001b[1A\u001b[2K\u001b[0G[+] 3.2s\n",
      "conda-forge/linux-64 \u001b[33m━━━━━━━━━━━╸\u001b[0m\u001b[90m━━━━━━━━━━━\u001b[0m  12.2MB /  ??.?MB @   3.8MB/s  3.2s\n",
      "conda-forge/noarch   \u001b[33m━━━━━━━━━━━━━━━╸\u001b[0m\u001b[90m━━━━━━━\u001b[0m  11.2MB /  ??.?MB @   3.5MB/s  3.2s\u001b[2K\u001b[1A\u001b[2K\u001b[1A\u001b[2K\u001b[0G[+] 3.3s\n",
      "conda-forge/linux-64 \u001b[33m━━━━━━━━━━━━━╸\u001b[0m\u001b[90m━━━━━━━━━\u001b[0m  12.6MB /  ??.?MB @   3.8MB/s  3.3s\n",
      "conda-forge/noarch   \u001b[90m━╸\u001b[0m\u001b[33m━━━━━━━━━━━━━━━╸\u001b[0m\u001b[90m━━━━━\u001b[0m  11.6MB /  ??.?MB @   3.6MB/s  3.3s\u001b[2K\u001b[1A\u001b[2K\u001b[1A\u001b[2K\u001b[0G[+] 3.4s\n",
      "conda-forge/linux-64 \u001b[33m━━━━━━━━━━━━━━━╸\u001b[0m\u001b[90m━━━━━━━\u001b[0m  12.9MB /  ??.?MB @   3.8MB/s  3.4s\n",
      "conda-forge/noarch   \u001b[90m━━━╸\u001b[0m\u001b[33m━━━━━━━━━━━━━━━╸\u001b[0m\u001b[90m━━━\u001b[0m  12.1MB /  ??.?MB @   3.6MB/s  3.4s\u001b[2K\u001b[1A\u001b[2K\u001b[1A\u001b[2K\u001b[0G[+] 3.5s\n",
      "conda-forge/linux-64 \u001b[90m━━╸\u001b[0m\u001b[33m━━━━━━━━━━━━━━━╸\u001b[0m\u001b[90m━━━━\u001b[0m  13.3MB /  ??.?MB @   3.8MB/s  3.5s\n",
      "conda-forge/noarch   \u001b[90m━━━━━━╸\u001b[0m\u001b[33m━━━━━━━━━━━━━━━━\u001b[0m  12.5MB /  ??.?MB @   3.6MB/s  3.5s\u001b[2K\u001b[1A\u001b[2K\u001b[1A\u001b[2K\u001b[0G[+] 3.6s\n",
      "conda-forge/linux-64 \u001b[90m━━━━╸\u001b[0m\u001b[33m━━━━━━━━━━━━━━━╸\u001b[0m\u001b[90m━━\u001b[0m  13.8MB /  ??.?MB @   3.9MB/s  3.6s\n",
      "conda-forge/noarch   \u001b[90m━━━━━━━━╸\u001b[0m\u001b[33m━━━━━━━━━━━━━━\u001b[0m  13.0MB /  ??.?MB @   3.6MB/s  3.6s\u001b[2K\u001b[1A\u001b[2K\u001b[1A\u001b[2K\u001b[0G[+] 3.7s\n",
      "conda-forge/linux-64 \u001b[90m━━━━━━╸\u001b[0m\u001b[33m━━━━━━━━━━━━━━━━\u001b[0m  14.2MB /  ??.?MB @   3.9MB/s  3.7s\n",
      "conda-forge/noarch   \u001b[90m━━━━━━━━━━╸\u001b[0m\u001b[33m━━━━━━━━━━━━\u001b[0m  13.4MB /  ??.?MB @   3.6MB/s  3.7s\u001b[2K\u001b[1A\u001b[2K\u001b[1A\u001b[2K\u001b[0G[+] 3.8s\n",
      "conda-forge/linux-64 \u001b[90m━━━━━━╸\u001b[0m\u001b[33m━━━━━━━━━━━━━━━\u001b[0m  14.5MB @   3.9MB/s             3.8s\n",
      "conda-forge/noarch   ━━━━━━━━━━━━━━━━━━━━━━  13.8MB @   3.7MB/s Downloaded  3.8s\u001b[2K\u001b[1A\u001b[2K\u001b[1A\u001b[2K\u001b[0G[+] 3.9s\n",
      "conda-forge/linux-64 \u001b[90m━━━━━━╸\u001b[0m\u001b[33m━━━━━━━━━━━━━━━\u001b[0m  14.5MB @   3.9MB/s             3.9s\n",
      "conda-forge/noarch   ━━━━━━━━━━━━━━━━━━━━━━  13.8MB @   3.7MB/s Finalizing  3.9s\u001b[2K\u001b[1A\u001b[2K\u001b[1A\u001b[2K\u001b[0Gconda-forge/noarch                                 @   3.7MB/s  4.0s\n",
      "[+] 4.0s\n",
      "conda-forge/linux-64 \u001b[90m━━━━━━━━╸\u001b[0m\u001b[33m━━━━━━━━━━━━━━\u001b[0m  15.0MB /  ??.?MB @   3.8MB/s  4.0s\u001b[2K\u001b[1A\u001b[2K\u001b[0G[+] 4.1s\n",
      "conda-forge/linux-64 \u001b[90m━━━━━━━━━╸\u001b[0m\u001b[33m━━━━━━━━━━━━━\u001b[0m  15.8MB /  ??.?MB @   3.9MB/s  4.1s\u001b[2K\u001b[1A\u001b[2K\u001b[0G[+] 4.2s\n",
      "conda-forge/linux-64 \u001b[90m━━━━━━━━━━━╸\u001b[0m\u001b[33m━━━━━━━━━━━\u001b[0m  16.3MB /  ??.?MB @   3.9MB/s  4.2s\u001b[2K\u001b[1A\u001b[2K\u001b[0G[+] 4.3s\n",
      "conda-forge/linux-64 \u001b[33m━━━━━━━━╸\u001b[0m\u001b[90m━━━━━━━━━━━━━━\u001b[0m  16.7MB /  ??.?MB @   3.9MB/s  4.3s\u001b[2K\u001b[1A\u001b[2K\u001b[0G[+] 4.4s\n",
      "conda-forge/linux-64 \u001b[33m━━━━━━━━━━╸\u001b[0m\u001b[90m━━━━━━━━━━━━\u001b[0m  17.2MB /  ??.?MB @   3.9MB/s  4.4s\u001b[2K\u001b[1A\u001b[2K\u001b[0G[+] 4.5s\n",
      "conda-forge/linux-64 \u001b[33m━━━━━━━━━━━━╸\u001b[0m\u001b[90m━━━━━━━━━━\u001b[0m  17.5MB /  ??.?MB @   3.9MB/s  4.5s\u001b[2K\u001b[1A\u001b[2K\u001b[0G[+] 4.6s\n",
      "conda-forge/linux-64 \u001b[33m━━━━━━━━━━━━━━╸\u001b[0m\u001b[90m━━━━━━━━\u001b[0m  17.9MB /  ??.?MB @   3.9MB/s  4.6s\u001b[2K\u001b[1A\u001b[2K\u001b[0G[+] 4.7s\n",
      "conda-forge/linux-64 \u001b[33m━━━━━━━━━━━━━━╸\u001b[0m\u001b[90m━━━━━━━━\u001b[0m  17.9MB /  ??.?MB @   3.9MB/s  4.7s\u001b[2K\u001b[1A\u001b[2K\u001b[0G[+] 4.8s\n",
      "conda-forge/linux-64 \u001b[90m╸\u001b[0m\u001b[33m━━━━━━━━━━━━━━━╸\u001b[0m\u001b[90m━━━━━━\u001b[0m  18.6MB /  ??.?MB @   3.9MB/s  4.8s\u001b[2K\u001b[1A\u001b[2K\u001b[0G[+] 4.9s\n",
      "conda-forge/linux-64 \u001b[90m━━━╸\u001b[0m\u001b[33m━━━━━━━━━━━━━━━╸\u001b[0m\u001b[90m━━━\u001b[0m  19.1MB /  ??.?MB @   3.9MB/s  4.9s\u001b[2K\u001b[1A\u001b[2K\u001b[0G[+] 5.0s\n",
      "conda-forge/linux-64 \u001b[90m━━━━━╸\u001b[0m\u001b[33m━━━━━━━━━━━━━━━╸\u001b[0m\u001b[90m━\u001b[0m  19.5MB /  ??.?MB @   3.9MB/s  5.0s\u001b[2K\u001b[1A\u001b[2K\u001b[0G[+] 5.1s\n",
      "conda-forge/linux-64 \u001b[90m━━━━━━━╸\u001b[0m\u001b[33m━━━━━━━━━━━━━━━\u001b[0m  20.0MB /  ??.?MB @   3.9MB/s  5.1s\u001b[2K\u001b[1A\u001b[2K\u001b[0G[+] 5.2s\n",
      "conda-forge/linux-64 \u001b[90m━━━━━━━━━╸\u001b[0m\u001b[33m━━━━━━━━━━━━━\u001b[0m  20.4MB /  ??.?MB @   4.0MB/s  5.2s\u001b[2K\u001b[1A\u001b[2K\u001b[0G[+] 5.3s\n",
      "conda-forge/linux-64 \u001b[90m━━━━━━━━━━━╸\u001b[0m\u001b[33m━━━━━━━━━━━\u001b[0m  20.8MB /  ??.?MB @   3.9MB/s  5.3s\u001b[2K\u001b[1A\u001b[2K\u001b[0G[+] 5.4s\n",
      "conda-forge/linux-64 \u001b[33m━━━━━━━━╸\u001b[0m\u001b[90m━━━━━━━━━━━━━━\u001b[0m  21.2MB /  ??.?MB @   3.9MB/s  5.4s\u001b[2K\u001b[1A\u001b[2K\u001b[0G[+] 5.5s\n",
      "conda-forge/linux-64 \u001b[33m━━━━━━━━━━╸\u001b[0m\u001b[90m━━━━━━━━━━━━\u001b[0m  21.6MB /  ??.?MB @   3.9MB/s  5.5s\u001b[2K\u001b[1A\u001b[2K\u001b[0G[+] 5.6s\n",
      "conda-forge/linux-64 \u001b[33m━━━━━━━━━━━━╸\u001b[0m\u001b[90m━━━━━━━━━━\u001b[0m  22.0MB /  ??.?MB @   3.9MB/s  5.6s\u001b[2K\u001b[1A\u001b[2K\u001b[0G[+] 5.7s\n",
      "conda-forge/linux-64 \u001b[33m━━━━━━━━━━━━━━╸\u001b[0m\u001b[90m━━━━━━━━\u001b[0m  22.3MB /  ??.?MB @   3.9MB/s  5.7s\u001b[2K\u001b[1A\u001b[2K\u001b[0G[+] 5.8s\n",
      "conda-forge/linux-64 \u001b[90m╸\u001b[0m\u001b[33m━━━━━━━━━━━━━━━╸\u001b[0m\u001b[90m━━━━━━\u001b[0m  22.8MB /  ??.?MB @   3.9MB/s  5.8s\u001b[2K\u001b[1A\u001b[2K\u001b[0G[+] 5.9s\n",
      "conda-forge/linux-64 \u001b[90m━━━╸\u001b[0m\u001b[33m━━━━━━━━━━━━━━━╸\u001b[0m\u001b[90m━━━\u001b[0m  23.1MB /  ??.?MB @   3.9MB/s  5.9s\u001b[2K\u001b[1A\u001b[2K\u001b[0G[+] 6.0s\n",
      "conda-forge/linux-64 \u001b[90m━━━━━╸\u001b[0m\u001b[33m━━━━━━━━━━━━━━━╸\u001b[0m\u001b[90m━\u001b[0m  23.5MB /  ??.?MB @   3.9MB/s  6.0s\u001b[2K\u001b[1A\u001b[2K\u001b[0G[+] 6.1s\n",
      "conda-forge/linux-64 \u001b[90m━━━━━━╸\u001b[0m\u001b[33m━━━━━━━━━━━━━━━━\u001b[0m  23.7MB /  ??.?MB @   3.9MB/s  6.1s\u001b[2K\u001b[1A\u001b[2K\u001b[0G[+] 6.2s\n",
      "conda-forge/linux-64 \u001b[90m━━━━━━━━╸\u001b[0m\u001b[33m━━━━━━━━━━━━━━\u001b[0m  24.0MB /  ??.?MB @   3.9MB/s  6.2s\u001b[2K\u001b[1A\u001b[2K\u001b[0G[+] 6.3s\n",
      "conda-forge/linux-64 \u001b[90m━━━━━━━━━━╸\u001b[0m\u001b[33m━━━━━━━━━━━━\u001b[0m  24.4MB /  ??.?MB @   3.9MB/s  6.3s\u001b[2K\u001b[1A\u001b[2K\u001b[0G[+] 6.4s\n",
      "conda-forge/linux-64 \u001b[90m━━━━━━━━━━━━━╸\u001b[0m\u001b[33m━━━━━━━━━\u001b[0m  24.8MB /  ??.?MB @   3.9MB/s  6.4s\u001b[2K\u001b[1A\u001b[2K\u001b[0G[+] 6.5s\n",
      "conda-forge/linux-64 \u001b[33m━━━━━━━━━╸\u001b[0m\u001b[90m━━━━━━━━━━━━━\u001b[0m  25.3MB /  ??.?MB @   3.9MB/s  6.5s\u001b[2K\u001b[1A\u001b[2K\u001b[0G[+] 6.6s\n",
      "conda-forge/linux-64 \u001b[33m━━━━━━━━━━━╸\u001b[0m\u001b[90m━━━━━━━━━━━\u001b[0m  25.7MB /  ??.?MB @   3.9MB/s  6.6s\u001b[2K\u001b[1A\u001b[2K\u001b[0G[+] 6.7s\n",
      "conda-forge/linux-64 \u001b[33m━━━━━━━━━━━━━╸\u001b[0m\u001b[90m━━━━━━━━━\u001b[0m  26.1MB /  ??.?MB @   3.9MB/s  6.7s\u001b[2K\u001b[1A\u001b[2K\u001b[0G[+] 6.8s\n",
      "conda-forge/linux-64 \u001b[33m━━━━━━━━━━━━━╸\u001b[0m\u001b[90m━━━━━━━━━\u001b[0m  26.1MB /  ??.?MB @   3.9MB/s  6.8s\u001b[2K\u001b[1A\u001b[2K\u001b[0G[+] 6.9s\n",
      "conda-forge/linux-64 \u001b[33m━━━━━━━━━━━━━━━╸\u001b[0m\u001b[90m━━━━━━━\u001b[0m  26.9MB /  ??.?MB @   3.9MB/s  6.9s\u001b[2K\u001b[1A\u001b[2K\u001b[0G[+] 7.0s\n",
      "conda-forge/linux-64 \u001b[90m━━╸\u001b[0m\u001b[33m━━━━━━━━━━━━━━━╸\u001b[0m\u001b[90m━━━━\u001b[0m  27.3MB /  ??.?MB @   3.9MB/s  7.0s\u001b[2K\u001b[1A\u001b[2K\u001b[0G[+] 7.1s\n",
      "conda-forge/linux-64 \u001b[90m━━━━╸\u001b[0m\u001b[33m━━━━━━━━━━━━━━━╸\u001b[0m\u001b[90m━━\u001b[0m  27.7MB /  ??.?MB @   3.9MB/s  7.1s\u001b[2K\u001b[1A\u001b[2K\u001b[0G[+] 7.2s\n",
      "conda-forge/linux-64 \u001b[90m━━━━━━╸\u001b[0m\u001b[33m━━━━━━━━━━━━━━━━\u001b[0m  28.0MB /  ??.?MB @   3.9MB/s  7.2s\u001b[2K\u001b[1A\u001b[2K\u001b[0G[+] 7.3s\n",
      "conda-forge/linux-64 \u001b[90m━━━━━━━━╸\u001b[0m\u001b[33m━━━━━━━━━━━━━━\u001b[0m  28.3MB /  ??.?MB @   3.9MB/s  7.3s\u001b[2K\u001b[1A\u001b[2K\u001b[0G[+] 7.4s\n",
      "conda-forge/linux-64 \u001b[90m━━━━━━━━━━╸\u001b[0m\u001b[33m━━━━━━━━━━━━\u001b[0m  28.7MB /  ??.?MB @   3.9MB/s  7.4s\u001b[2K\u001b[1A\u001b[2K\u001b[0G[+] 7.5s\n",
      "conda-forge/linux-64 \u001b[90m━━━━━━━━━━━━━╸\u001b[0m\u001b[33m━━━━━━━━━\u001b[0m  29.1MB /  ??.?MB @   3.9MB/s  7.5s\u001b[2K\u001b[1A\u001b[2K\u001b[0G[+] 7.6s\n",
      "conda-forge/linux-64 \u001b[33m━━━━━━━━━╸\u001b[0m\u001b[90m━━━━━━━━━━━━━\u001b[0m  29.5MB /  ??.?MB @   3.9MB/s  7.6s\u001b[2K\u001b[1A\u001b[2K\u001b[0G[+] 7.7s\n",
      "conda-forge/linux-64 \u001b[33m━━━━━━━━━━━╸\u001b[0m\u001b[90m━━━━━━━━━━━\u001b[0m  29.9MB /  ??.?MB @   3.9MB/s  7.7s\u001b[2K\u001b[1A\u001b[2K\u001b[0G[+] 7.8s\n",
      "conda-forge/linux-64 \u001b[33m━━━━━━━━━━━━━╸\u001b[0m\u001b[90m━━━━━━━━━\u001b[0m  30.3MB /  ??.?MB @   3.9MB/s  7.8s\u001b[2K\u001b[1A\u001b[2K\u001b[0G[+] 7.9s\n",
      "conda-forge/linux-64 \u001b[33m━━━━━━━━━━━━━━━╸\u001b[0m\u001b[90m━━━━━━━\u001b[0m  30.7MB /  ??.?MB @   3.9MB/s  7.9s\u001b[2K\u001b[1A\u001b[2K\u001b[0G[+] 8.0s\n",
      "conda-forge/linux-64 \u001b[90m━━╸\u001b[0m\u001b[33m━━━━━━━━━━━━━━━╸\u001b[0m\u001b[90m━━━━\u001b[0m  31.1MB /  ??.?MB @   3.9MB/s  8.0s\u001b[2K\u001b[1A\u001b[2K\u001b[0G[+] 8.1s\n",
      "conda-forge/linux-64 \u001b[90m━━━━╸\u001b[0m\u001b[33m━━━━━━━━━━━━━━━╸\u001b[0m\u001b[90m━━\u001b[0m  31.5MB /  ??.?MB @   3.9MB/s  8.1s\u001b[2K\u001b[1A\u001b[2K\u001b[0G[+] 8.2s\n",
      "conda-forge/linux-64 \u001b[90m━━━━━╸\u001b[0m\u001b[33m━━━━━━━━━━━━━━━╸\u001b[0m\u001b[90m━\u001b[0m  31.6MB /  ??.?MB @   3.9MB/s  8.2s\u001b[2K\u001b[1A\u001b[2K\u001b[0G[+] 8.3s\n",
      "conda-forge/linux-64 \u001b[90m━━━━━━━╸\u001b[0m\u001b[33m━━━━━━━━━━━━━━━\u001b[0m  31.9MB /  ??.?MB @   3.9MB/s  8.3s\u001b[2K\u001b[1A\u001b[2K\u001b[0G[+] 8.4s\n",
      "conda-forge/linux-64 \u001b[90m━━━━━━━━━╸\u001b[0m\u001b[33m━━━━━━━━━━━━━\u001b[0m  32.2MB /  ??.?MB @   3.8MB/s  8.4s\u001b[2K\u001b[1A\u001b[2K\u001b[0G[+] 8.5s\n",
      "conda-forge/linux-64 \u001b[90m━━━━━━━━━━━╸\u001b[0m\u001b[33m━━━━━━━━━━━\u001b[0m  32.5MB /  ??.?MB @   3.8MB/s  8.5s\u001b[2K\u001b[1A\u001b[2K\u001b[0G[+] 8.6s\n",
      "conda-forge/linux-64 \u001b[33m━━━━━━━━╸\u001b[0m\u001b[90m━━━━━━━━━━━━━━\u001b[0m  32.9MB /  ??.?MB @   3.8MB/s  8.6s\u001b[2K\u001b[1A\u001b[2K\u001b[0G[+] 8.7s\n",
      "conda-forge/linux-64 \u001b[33m━━━━━━━━━━╸\u001b[0m\u001b[90m━━━━━━━━━━━━\u001b[0m  33.3MB /  ??.?MB @   3.8MB/s  8.7s\u001b[2K\u001b[1A\u001b[2K\u001b[0G[+] 8.8s\n",
      "conda-forge/linux-64 ━━━━━━━━━━━━━━━━━━━━━━  33.7MB @   3.8MB/s Downloaded  8.8s\u001b[2K\u001b[1A\u001b[2K\u001b[0G[+] 8.9s\n"
     ]
    },
    {
     "name": "stdout",
     "output_type": "stream",
     "text": [
      "conda-forge/linux-64 ━━━━━━━━━━━━━━━━━━━━━━  33.7MB @   3.8MB/s Finalizing  8.9s\u001b[2K\u001b[1A\u001b[2K\u001b[0G[+] 9.0s\n",
      "conda-forge/linux-64 ━━━━━━━━━━━━━━━━━━━━━━  33.7MB @   3.8MB/s Finalizing  9.0s\u001b[2K\u001b[1A\u001b[2K\u001b[0G[+] 9.1s\n",
      "conda-forge/linux-64 ━━━━━━━━━━━━━━━━━━━━━━  33.7MB @   3.8MB/s Finalizing  9.1s\u001b[2K\u001b[1A\u001b[2K\u001b[0G[+] 9.2s\n",
      "conda-forge/linux-64 ━━━━━━━━━━━━━━━━━━━━━━  33.7MB @   3.8MB/s Finalizing  9.2s\u001b[2K\u001b[1A\u001b[2K\u001b[0Gconda-forge/linux-64                               @   3.8MB/s  9.3s\n",
      "\u001b[?25h\n",
      "Pinned packages:\n",
      "  - python 3.11.*\n",
      "\n",
      "\n"
     ]
    }
   ],
   "source": [
    "!mamba install sklearn"
   ]
  },
  {
   "cell_type": "code",
   "execution_count": null,
   "metadata": {
    "pycharm": {
     "name": "#%%\n"
    }
   },
   "outputs": [],
   "source": []
  }
 ],
 "metadata": {
  "kernelspec": {
   "display_name": "Python 3 (ipykernel)",
   "language": "python",
   "name": "python3"
  },
  "language_info": {
   "codemirror_mode": {
    "name": "ipython",
    "version": 3
   },
   "file_extension": ".py",
   "mimetype": "text/x-python",
   "name": "python",
   "nbconvert_exporter": "python",
   "pygments_lexer": "ipython3",
<<<<<<< HEAD
   "version": "3.11.6"
=======
   "version": "3.12.1"
>>>>>>> 7c49cbacc0b766b7e09409c4707082f29143a632
  }
 },
 "nbformat": 4,
 "nbformat_minor": 4
}
