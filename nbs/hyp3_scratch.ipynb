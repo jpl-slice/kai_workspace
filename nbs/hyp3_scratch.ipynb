{
 "cells": [
  {
   "cell_type": "code",
   "execution_count": 4,
   "id": "39bcd237-9c9c-43f1-8ee2-c4d30d01f73d",
   "metadata": {},
   "outputs": [],
   "source": [
    "from hyp3_sdk import HyP3\n",
    "import asf_search as asf\n",
    "from config import hyp3_username, hyp3_password\n",
    "\n",
    "            "
   ]
  },
  {
   "cell_type": "code",
   "execution_count": null,
   "id": "a85024b7-2991-494b-a53a-9dcd0c831233",
   "metadata": {},
   "outputs": [],
   "source": [
    "hyp3 = HyP3(username=hyp3_username, password=hyp3_password)\n",
    "cali_poly = "
   ]
  }
 ],
 "metadata": {
  "kernelspec": {
   "display_name": "hyp3",
   "language": "python",
   "name": "hyp3"
  },
  "language_info": {
   "codemirror_mode": {
    "name": "ipython",
    "version": 3
   },
   "file_extension": ".py",
   "mimetype": "text/x-python",
   "name": "python",
   "nbconvert_exporter": "python",
   "pygments_lexer": "ipython3",
   "version": "3.12.3"
  }
 },
 "nbformat": 4,
 "nbformat_minor": 5
}
